{
 "cells": [
  {
   "cell_type": "markdown",
   "metadata": {},
   "source": [
    "# 1. 데이터 불러오기"
   ]
  },
  {
   "cell_type": "code",
   "execution_count": 65,
   "metadata": {},
   "outputs": [],
   "source": [
    "import os\n",
    "os.chdir('C:/Users/hu612/Desktop/School/수DA쟁이/Project/개인과제/data')"
   ]
  },
  {
   "cell_type": "code",
   "execution_count": 66,
   "metadata": {},
   "outputs": [],
   "source": [
    "import pandas as pd\n",
    "import numpy as np\n",
    "\n",
    "train=pd.read_csv('train_features.csv')\n",
    "train_labels=pd.read_csv('train_labels.csv')\n",
    "test=pd.read_csv('test_features.csv')\n",
    "submission=pd.read_csv('sample_submission.csv')"
   ]
  },
  {
   "cell_type": "markdown",
   "metadata": {},
   "source": [
    "# 2. TRAIN TEST 나눈 LSTM"
   ]
  },
  {
   "cell_type": "code",
   "execution_count": 6,
   "metadata": {},
   "outputs": [],
   "source": [
    "import tensorflow as tf\n",
    "X_train = train[(train['id']>= 0) & (train['id']<=2499)]\n",
    "X_test = train[train['id'] >= 2500]\n",
    "X_train = tf.reshape(np.array(X_train.iloc[:,2:]),[-1, 600, 6])\n",
    "X_test = tf.reshape(np.array(X_test.iloc[:,2:]),[-1, 600, 6])\n",
    "\n",
    "from tensorflow.keras.utils import to_categorical\n",
    "y =  train_labels['label']\n",
    "slice_arr = slice(0,2500,1)\n",
    "y_train = y[slice_arr]\n",
    "\n",
    "slice_arr2 = slice(2500,3125,1)\n",
    "y_test = y[slice_arr2]\n",
    "\n",
    "y_train_encoding = tf.keras.utils.to_categorical(y_train)\n",
    "y_test_encoding = tf.keras.utils.to_categorical(y_test)"
   ]
  },
  {
   "cell_type": "code",
   "execution_count": 7,
   "metadata": {},
   "outputs": [
    {
     "name": "stdout",
     "output_type": "stream",
     "text": [
      "Model: \"sequential\"\n",
      "_________________________________________________________________\n",
      "Layer (type)                 Output Shape              Param #   \n",
      "=================================================================\n",
      "lstm (LSTM)                  (None, 32)                4992      \n",
      "_________________________________________________________________\n",
      "dense (Dense)                (None, 128)               4224      \n",
      "_________________________________________________________________\n",
      "dense_1 (Dense)              (None, 61)                7869      \n",
      "=================================================================\n",
      "Total params: 17,085\n",
      "Trainable params: 17,085\n",
      "Non-trainable params: 0\n",
      "_________________________________________________________________\n"
     ]
    }
   ],
   "source": [
    "# op= adam,loss mse 했을때 정확도 0 나옴\n",
    "from keras.models import Sequential\n",
    "from keras.layers import LSTM,Dense\n",
    "\n",
    "np.random.seed(0)\n",
    "model = Sequential()\n",
    "model.add(LSTM(32, input_shape=(600,6)))\n",
    "model.add(Dense(128, activation='relu'))\n",
    "model.add(Dense(61,activation='softmax'))\n",
    "\n",
    "model.compile(optimizer='rmsprop', loss='categorical_crossentropy', metrics=['accuracy'])\n",
    "model.summary()"
   ]
  },
  {
   "cell_type": "code",
   "execution_count": 8,
   "metadata": {},
   "outputs": [
    {
     "name": "stdout",
     "output_type": "stream",
     "text": [
      "Epoch 1/30\n",
      "16/16 [==============================] - 14s 626ms/step - loss: 3.8574 - accuracy: 0.2402 - val_loss: 3.3378 - val_accuracy: 0.4840\n",
      "Epoch 2/30\n",
      "16/16 [==============================] - 8s 493ms/step - loss: 3.1679 - accuracy: 0.4853 - val_loss: 2.8870 - val_accuracy: 0.4860\n",
      "Epoch 3/30\n",
      "16/16 [==============================] - 8s 479ms/step - loss: 2.8512 - accuracy: 0.4757 - val_loss: 2.7706 - val_accuracy: 0.4860\n",
      "Epoch 4/30\n",
      "16/16 [==============================] - 8s 517ms/step - loss: 2.7729 - accuracy: 0.4687 - val_loss: 2.7425 - val_accuracy: 0.4860\n",
      "Epoch 5/30\n",
      "16/16 [==============================] - 8s 475ms/step - loss: 2.6752 - accuracy: 0.4783 - val_loss: 2.7171 - val_accuracy: 0.4860\n",
      "Epoch 6/30\n",
      "16/16 [==============================] - 7s 431ms/step - loss: 2.6602 - accuracy: 0.4716 - val_loss: 2.6943 - val_accuracy: 0.4860\n",
      "Epoch 7/30\n",
      "16/16 [==============================] - 8s 493ms/step - loss: 2.5704 - accuracy: 0.4824 - val_loss: 2.6706 - val_accuracy: 0.4860\n",
      "Epoch 8/30\n",
      "16/16 [==============================] - 8s 492ms/step - loss: 2.4549 - accuracy: 0.5008 - val_loss: 2.6441 - val_accuracy: 0.4860\n",
      "Epoch 9/30\n",
      "16/16 [==============================] - 7s 441ms/step - loss: 2.5050 - accuracy: 0.4715 - val_loss: 2.6201 - val_accuracy: 0.4860\n",
      "Epoch 10/30\n",
      "16/16 [==============================] - 8s 511ms/step - loss: 2.4539 - accuracy: 0.4804 - val_loss: 2.5981 - val_accuracy: 0.4900\n",
      "Epoch 11/30\n",
      "16/16 [==============================] - 8s 527ms/step - loss: 2.3979 - accuracy: 0.4881 - val_loss: 2.5785 - val_accuracy: 0.5000\n",
      "Epoch 12/30\n",
      "16/16 [==============================] - 8s 485ms/step - loss: 2.3584 - accuracy: 0.5004 - val_loss: 2.5659 - val_accuracy: 0.4980\n",
      "Epoch 13/30\n",
      "16/16 [==============================] - 8s 489ms/step - loss: 2.2874 - accuracy: 0.5062 - val_loss: 2.5544 - val_accuracy: 0.5100\n",
      "Epoch 14/30\n",
      "16/16 [==============================] - 8s 486ms/step - loss: 2.2303 - accuracy: 0.5169 - val_loss: 2.5455 - val_accuracy: 0.5060\n",
      "Epoch 15/30\n",
      "16/16 [==============================] - 8s 488ms/step - loss: 2.3042 - accuracy: 0.4949 - val_loss: 2.5356 - val_accuracy: 0.5040\n",
      "Epoch 16/30\n",
      "16/16 [==============================] - 8s 503ms/step - loss: 2.1755 - accuracy: 0.5283 - val_loss: 2.5341 - val_accuracy: 0.5120\n",
      "Epoch 17/30\n",
      "16/16 [==============================] - 8s 506ms/step - loss: 2.1611 - accuracy: 0.5252 - val_loss: 2.5283 - val_accuracy: 0.5120\n",
      "Epoch 18/30\n",
      "16/16 [==============================] - 7s 443ms/step - loss: 2.2258 - accuracy: 0.4989 - val_loss: 2.5255 - val_accuracy: 0.5080\n",
      "Epoch 19/30\n",
      "16/16 [==============================] - 8s 502ms/step - loss: 2.2230 - accuracy: 0.4963 - val_loss: 2.5317 - val_accuracy: 0.5120\n",
      "Epoch 20/30\n",
      "16/16 [==============================] - 8s 499ms/step - loss: 2.2007 - accuracy: 0.4982 - val_loss: 2.5234 - val_accuracy: 0.5040\n",
      "Epoch 21/30\n",
      "16/16 [==============================] - 9s 551ms/step - loss: 2.0893 - accuracy: 0.5228 - val_loss: 2.5190 - val_accuracy: 0.5080\n",
      "Epoch 22/30\n",
      "16/16 [==============================] - 9s 541ms/step - loss: 2.1623 - accuracy: 0.4970 - val_loss: 2.5226 - val_accuracy: 0.5040\n",
      "Epoch 23/30\n",
      "16/16 [==============================] - 9s 549ms/step - loss: 2.0401 - accuracy: 0.5180 - val_loss: 2.5193 - val_accuracy: 0.5060\n",
      "Epoch 24/30\n",
      "16/16 [==============================] - 8s 473ms/step - loss: 2.0532 - accuracy: 0.5116 - val_loss: 2.5265 - val_accuracy: 0.5040\n",
      "Epoch 25/30\n",
      "16/16 [==============================] - 8s 525ms/step - loss: 1.9793 - accuracy: 0.5258 - val_loss: 2.5214 - val_accuracy: 0.5000\n",
      "Epoch 26/30\n",
      "16/16 [==============================] - 9s 539ms/step - loss: 2.0724 - accuracy: 0.5028 - val_loss: 2.5296 - val_accuracy: 0.5100\n",
      "Epoch 27/30\n",
      "16/16 [==============================] - 8s 533ms/step - loss: 2.0208 - accuracy: 0.5216 - val_loss: 2.5322 - val_accuracy: 0.5060\n",
      "Epoch 28/30\n",
      "16/16 [==============================] - 8s 508ms/step - loss: 1.9695 - accuracy: 0.5317 - val_loss: 2.5257 - val_accuracy: 0.5080\n",
      "Epoch 29/30\n",
      "16/16 [==============================] - 8s 473ms/step - loss: 1.9739 - accuracy: 0.5206 - val_loss: 2.5506 - val_accuracy: 0.5020\n",
      "Epoch 30/30\n",
      "16/16 [==============================] - 8s 504ms/step - loss: 2.0231 - accuracy: 0.5037 - val_loss: 2.5358 - val_accuracy: 0.4980\n"
     ]
    }
   ],
   "source": [
    "history = model.fit(X_train,y_train_encoding\n",
    "          , epochs=30, batch_size=128, validation_split=0.2)"
   ]
  },
  {
   "cell_type": "code",
   "execution_count": 9,
   "metadata": {},
   "outputs": [],
   "source": [
    "y_pred = model.predict(X_test)"
   ]
  },
  {
   "cell_type": "code",
   "execution_count": 10,
   "metadata": {},
   "outputs": [],
   "source": [
    "y_pred = model.predict(X_test)\n",
    "y_pred1 = list(y_pred)\n",
    "for a in range(0,625,1) :\n",
    "    for i in range(0,61,1) :\n",
    "        if (i == np.argmax(y_pred1[a])) : \n",
    "            y_pred1[a][i] = 1\n",
    "        else :\n",
    "            y_pred1[a][i] = 0"
   ]
  },
  {
   "cell_type": "code",
   "execution_count": 11,
   "metadata": {},
   "outputs": [
    {
     "name": "stdout",
     "output_type": "stream",
     "text": [
      "테스트 세트의 정확도: 0.98\n"
     ]
    }
   ],
   "source": [
    "print(\"테스트 세트의 정확도: {:.2f}\".format(np.mean(y_pred == y_test_encoding)))"
   ]
  },
  {
   "cell_type": "code",
   "execution_count": 12,
   "metadata": {
    "scrolled": true
   },
   "outputs": [
    {
     "data": {
      "text/plain": [
       "TensorShape([782, 600, 6])"
      ]
     },
     "execution_count": 12,
     "metadata": {},
     "output_type": "execute_result"
    }
   ],
   "source": [
    "test_X=tf.reshape(np.array(test.iloc[:,2:]),[-1, 600, 6])\n",
    "test_X.shape"
   ]
  },
  {
   "cell_type": "code",
   "execution_count": 13,
   "metadata": {},
   "outputs": [],
   "source": [
    "prediction=model.predict(test_X)"
   ]
  },
  {
   "cell_type": "code",
   "execution_count": 14,
   "metadata": {},
   "outputs": [],
   "source": [
    "submission.iloc[:,1:]=prediction"
   ]
  },
  {
   "cell_type": "code",
   "execution_count": 15,
   "metadata": {},
   "outputs": [],
   "source": [
    "submission.to_csv('C:/Users/hu612/Desktop/School/수DA쟁이/Project/개인과제/data/LSTM/2.csv', index=False)"
   ]
  },
  {
   "cell_type": "markdown",
   "metadata": {},
   "source": [
    "=>LSTM2 : 2.47035"
   ]
  },
  {
   "cell_type": "markdown",
   "metadata": {},
   "source": [
    "# 3. 좀 더 깊이 있는 LSTM"
   ]
  },
  {
   "cell_type": "code",
   "execution_count": 16,
   "metadata": {},
   "outputs": [],
   "source": [
    "import tensorflow as tf\n",
    "X_train = train[(train['id']>= 0) & (train['id']<=2499)]\n",
    "X_test = train[train['id'] >= 2500]\n",
    "X_train = tf.reshape(np.array(X_train.iloc[:,2:]),[-1, 600, 6])\n",
    "X_test = tf.reshape(np.array(X_test.iloc[:,2:]),[-1, 600, 6])\n",
    "\n",
    "from tensorflow.keras.utils import to_categorical\n",
    "y =  train_labels['label']\n",
    "slice_arr = slice(0,2500,1)\n",
    "y_train = y[slice_arr]\n",
    "\n",
    "slice_arr2 = slice(2500,3125,1)\n",
    "y_test = y[slice_arr2]\n",
    "\n",
    "y_train_encoding = tf.keras.utils.to_categorical(y_train)\n",
    "y_test_encoding = tf.keras.utils.to_categorical(y_test)"
   ]
  },
  {
   "cell_type": "code",
   "execution_count": 18,
   "metadata": {},
   "outputs": [
    {
     "name": "stdout",
     "output_type": "stream",
     "text": [
      "Model: \"sequential_2\"\n",
      "_________________________________________________________________\n",
      "Layer (type)                 Output Shape              Param #   \n",
      "=================================================================\n",
      "lstm_2 (LSTM)                (None, 600, 32)           4992      \n",
      "_________________________________________________________________\n",
      "dense_4 (Dense)              (None, 600, 128)          4224      \n",
      "_________________________________________________________________\n",
      "flatten (Flatten)            (None, 76800)             0         \n",
      "_________________________________________________________________\n",
      "dense_5 (Dense)              (None, 61)                4684861   \n",
      "=================================================================\n",
      "Total params: 4,694,077\n",
      "Trainable params: 4,694,077\n",
      "Non-trainable params: 0\n",
      "_________________________________________________________________\n"
     ]
    }
   ],
   "source": [
    "# op= adam,loss mse 했을때 정확도 0 나옴\n",
    "from keras.models import Sequential\n",
    "from keras.layers import LSTM,Dense, Flatten\n",
    "\n",
    "np.random.seed(0)\n",
    "model = Sequential()\n",
    "model.add(LSTM(32, input_shape=(600,6), return_sequences=True))\n",
    "model.add(Dense(128, activation='relu'))\n",
    "model.add(Flatten())\n",
    "model.add(Dense(61,activation='softmax'))\n",
    "\n",
    "model.compile(optimizer='rmsprop', loss='categorical_crossentropy', metrics=['accuracy'])\n",
    "model.summary()"
   ]
  },
  {
   "cell_type": "code",
   "execution_count": 19,
   "metadata": {
    "scrolled": true
   },
   "outputs": [
    {
     "name": "stdout",
     "output_type": "stream",
     "text": [
      "Epoch 1/30\n",
      "16/16 [==============================] - 16s 757ms/step - loss: 12.1253 - accuracy: 0.1961 - val_loss: 7.8498 - val_accuracy: 0.0380\n",
      "Epoch 2/30\n",
      "16/16 [==============================] - 11s 709ms/step - loss: 4.2115 - accuracy: 0.3785 - val_loss: 2.7166 - val_accuracy: 0.5400\n",
      "Epoch 3/30\n",
      "16/16 [==============================] - 11s 715ms/step - loss: 0.7149 - accuracy: 0.8330 - val_loss: 2.8549 - val_accuracy: 0.5300\n",
      "Epoch 4/30\n",
      "16/16 [==============================] - 11s 702ms/step - loss: 0.5849 - accuracy: 0.8342 - val_loss: 3.4094 - val_accuracy: 0.5200\n",
      "Epoch 5/30\n",
      "16/16 [==============================] - 11s 692ms/step - loss: 0.2840 - accuracy: 0.9087 - val_loss: 4.5546 - val_accuracy: 0.5220\n",
      "Epoch 6/30\n",
      "16/16 [==============================] - 11s 687ms/step - loss: 0.2380 - accuracy: 0.9434 - val_loss: 2.5267 - val_accuracy: 0.5620\n",
      "Epoch 7/30\n",
      "16/16 [==============================] - 11s 716ms/step - loss: 0.0277 - accuracy: 0.9940 - val_loss: 2.8638 - val_accuracy: 0.5560\n",
      "Epoch 8/30\n",
      "16/16 [==============================] - 11s 688ms/step - loss: 0.0248 - accuracy: 0.9941 - val_loss: 4.5224 - val_accuracy: 0.5360\n",
      "Epoch 9/30\n",
      "16/16 [==============================] - 11s 689ms/step - loss: 0.5230 - accuracy: 0.8634 - val_loss: 2.9509 - val_accuracy: 0.5720\n",
      "Epoch 10/30\n",
      "10/16 [=================>............] - ETA: 3s - loss: 0.0075 - accuracy: 0.9995"
     ]
    },
    {
     "ename": "KeyboardInterrupt",
     "evalue": "",
     "output_type": "error",
     "traceback": [
      "\u001b[1;31m---------------------------------------------------------------------------\u001b[0m",
      "\u001b[1;31mKeyboardInterrupt\u001b[0m                         Traceback (most recent call last)",
      "\u001b[1;32m<ipython-input-19-28ce18faf8a5>\u001b[0m in \u001b[0;36m<module>\u001b[1;34m\u001b[0m\n\u001b[1;32m----> 1\u001b[1;33m history = model.fit(X_train,y_train_encoding\n\u001b[0m\u001b[0;32m      2\u001b[0m           , epochs=30, batch_size=128, validation_split=0.2)\n",
      "\u001b[1;32m~\\Anaconda3\\lib\\site-packages\\tensorflow\\python\\keras\\engine\\training.py\u001b[0m in \u001b[0;36mfit\u001b[1;34m(self, x, y, batch_size, epochs, verbose, callbacks, validation_split, validation_data, shuffle, class_weight, sample_weight, initial_epoch, steps_per_epoch, validation_steps, validation_batch_size, validation_freq, max_queue_size, workers, use_multiprocessing)\u001b[0m\n\u001b[0;32m   1098\u001b[0m                 _r=1):\n\u001b[0;32m   1099\u001b[0m               \u001b[0mcallbacks\u001b[0m\u001b[1;33m.\u001b[0m\u001b[0mon_train_batch_begin\u001b[0m\u001b[1;33m(\u001b[0m\u001b[0mstep\u001b[0m\u001b[1;33m)\u001b[0m\u001b[1;33m\u001b[0m\u001b[1;33m\u001b[0m\u001b[0m\n\u001b[1;32m-> 1100\u001b[1;33m               \u001b[0mtmp_logs\u001b[0m \u001b[1;33m=\u001b[0m \u001b[0mself\u001b[0m\u001b[1;33m.\u001b[0m\u001b[0mtrain_function\u001b[0m\u001b[1;33m(\u001b[0m\u001b[0miterator\u001b[0m\u001b[1;33m)\u001b[0m\u001b[1;33m\u001b[0m\u001b[1;33m\u001b[0m\u001b[0m\n\u001b[0m\u001b[0;32m   1101\u001b[0m               \u001b[1;32mif\u001b[0m \u001b[0mdata_handler\u001b[0m\u001b[1;33m.\u001b[0m\u001b[0mshould_sync\u001b[0m\u001b[1;33m:\u001b[0m\u001b[1;33m\u001b[0m\u001b[1;33m\u001b[0m\u001b[0m\n\u001b[0;32m   1102\u001b[0m                 \u001b[0mcontext\u001b[0m\u001b[1;33m.\u001b[0m\u001b[0masync_wait\u001b[0m\u001b[1;33m(\u001b[0m\u001b[1;33m)\u001b[0m\u001b[1;33m\u001b[0m\u001b[1;33m\u001b[0m\u001b[0m\n",
      "\u001b[1;32m~\\Anaconda3\\lib\\site-packages\\tensorflow\\python\\eager\\def_function.py\u001b[0m in \u001b[0;36m__call__\u001b[1;34m(self, *args, **kwds)\u001b[0m\n\u001b[0;32m    826\u001b[0m     \u001b[0mtracing_count\u001b[0m \u001b[1;33m=\u001b[0m \u001b[0mself\u001b[0m\u001b[1;33m.\u001b[0m\u001b[0mexperimental_get_tracing_count\u001b[0m\u001b[1;33m(\u001b[0m\u001b[1;33m)\u001b[0m\u001b[1;33m\u001b[0m\u001b[1;33m\u001b[0m\u001b[0m\n\u001b[0;32m    827\u001b[0m     \u001b[1;32mwith\u001b[0m \u001b[0mtrace\u001b[0m\u001b[1;33m.\u001b[0m\u001b[0mTrace\u001b[0m\u001b[1;33m(\u001b[0m\u001b[0mself\u001b[0m\u001b[1;33m.\u001b[0m\u001b[0m_name\u001b[0m\u001b[1;33m)\u001b[0m \u001b[1;32mas\u001b[0m \u001b[0mtm\u001b[0m\u001b[1;33m:\u001b[0m\u001b[1;33m\u001b[0m\u001b[1;33m\u001b[0m\u001b[0m\n\u001b[1;32m--> 828\u001b[1;33m       \u001b[0mresult\u001b[0m \u001b[1;33m=\u001b[0m \u001b[0mself\u001b[0m\u001b[1;33m.\u001b[0m\u001b[0m_call\u001b[0m\u001b[1;33m(\u001b[0m\u001b[1;33m*\u001b[0m\u001b[0margs\u001b[0m\u001b[1;33m,\u001b[0m \u001b[1;33m**\u001b[0m\u001b[0mkwds\u001b[0m\u001b[1;33m)\u001b[0m\u001b[1;33m\u001b[0m\u001b[1;33m\u001b[0m\u001b[0m\n\u001b[0m\u001b[0;32m    829\u001b[0m       \u001b[0mcompiler\u001b[0m \u001b[1;33m=\u001b[0m \u001b[1;34m\"xla\"\u001b[0m \u001b[1;32mif\u001b[0m \u001b[0mself\u001b[0m\u001b[1;33m.\u001b[0m\u001b[0m_experimental_compile\u001b[0m \u001b[1;32melse\u001b[0m \u001b[1;34m\"nonXla\"\u001b[0m\u001b[1;33m\u001b[0m\u001b[1;33m\u001b[0m\u001b[0m\n\u001b[0;32m    830\u001b[0m       \u001b[0mnew_tracing_count\u001b[0m \u001b[1;33m=\u001b[0m \u001b[0mself\u001b[0m\u001b[1;33m.\u001b[0m\u001b[0mexperimental_get_tracing_count\u001b[0m\u001b[1;33m(\u001b[0m\u001b[1;33m)\u001b[0m\u001b[1;33m\u001b[0m\u001b[1;33m\u001b[0m\u001b[0m\n",
      "\u001b[1;32m~\\Anaconda3\\lib\\site-packages\\tensorflow\\python\\eager\\def_function.py\u001b[0m in \u001b[0;36m_call\u001b[1;34m(self, *args, **kwds)\u001b[0m\n\u001b[0;32m    853\u001b[0m       \u001b[1;31m# In this case we have created variables on the first call, so we run the\u001b[0m\u001b[1;33m\u001b[0m\u001b[1;33m\u001b[0m\u001b[1;33m\u001b[0m\u001b[0m\n\u001b[0;32m    854\u001b[0m       \u001b[1;31m# defunned version which is guaranteed to never create variables.\u001b[0m\u001b[1;33m\u001b[0m\u001b[1;33m\u001b[0m\u001b[1;33m\u001b[0m\u001b[0m\n\u001b[1;32m--> 855\u001b[1;33m       \u001b[1;32mreturn\u001b[0m \u001b[0mself\u001b[0m\u001b[1;33m.\u001b[0m\u001b[0m_stateless_fn\u001b[0m\u001b[1;33m(\u001b[0m\u001b[1;33m*\u001b[0m\u001b[0margs\u001b[0m\u001b[1;33m,\u001b[0m \u001b[1;33m**\u001b[0m\u001b[0mkwds\u001b[0m\u001b[1;33m)\u001b[0m  \u001b[1;31m# pylint: disable=not-callable\u001b[0m\u001b[1;33m\u001b[0m\u001b[1;33m\u001b[0m\u001b[0m\n\u001b[0m\u001b[0;32m    856\u001b[0m     \u001b[1;32melif\u001b[0m \u001b[0mself\u001b[0m\u001b[1;33m.\u001b[0m\u001b[0m_stateful_fn\u001b[0m \u001b[1;32mis\u001b[0m \u001b[1;32mnot\u001b[0m \u001b[1;32mNone\u001b[0m\u001b[1;33m:\u001b[0m\u001b[1;33m\u001b[0m\u001b[1;33m\u001b[0m\u001b[0m\n\u001b[0;32m    857\u001b[0m       \u001b[1;31m# Release the lock early so that multiple threads can perform the call\u001b[0m\u001b[1;33m\u001b[0m\u001b[1;33m\u001b[0m\u001b[1;33m\u001b[0m\u001b[0m\n",
      "\u001b[1;32m~\\Anaconda3\\lib\\site-packages\\tensorflow\\python\\eager\\function.py\u001b[0m in \u001b[0;36m__call__\u001b[1;34m(self, *args, **kwargs)\u001b[0m\n\u001b[0;32m   2940\u001b[0m       (graph_function,\n\u001b[0;32m   2941\u001b[0m        filtered_flat_args) = self._maybe_define_function(args, kwargs)\n\u001b[1;32m-> 2942\u001b[1;33m     return graph_function._call_flat(\n\u001b[0m\u001b[0;32m   2943\u001b[0m         filtered_flat_args, captured_inputs=graph_function.captured_inputs)  # pylint: disable=protected-access\n\u001b[0;32m   2944\u001b[0m \u001b[1;33m\u001b[0m\u001b[0m\n",
      "\u001b[1;32m~\\Anaconda3\\lib\\site-packages\\tensorflow\\python\\eager\\function.py\u001b[0m in \u001b[0;36m_call_flat\u001b[1;34m(self, args, captured_inputs, cancellation_manager)\u001b[0m\n\u001b[0;32m   1916\u001b[0m         and executing_eagerly):\n\u001b[0;32m   1917\u001b[0m       \u001b[1;31m# No tape is watching; skip to running the function.\u001b[0m\u001b[1;33m\u001b[0m\u001b[1;33m\u001b[0m\u001b[1;33m\u001b[0m\u001b[0m\n\u001b[1;32m-> 1918\u001b[1;33m       return self._build_call_outputs(self._inference_function.call(\n\u001b[0m\u001b[0;32m   1919\u001b[0m           ctx, args, cancellation_manager=cancellation_manager))\n\u001b[0;32m   1920\u001b[0m     forward_backward = self._select_forward_and_backward_functions(\n",
      "\u001b[1;32m~\\Anaconda3\\lib\\site-packages\\tensorflow\\python\\eager\\function.py\u001b[0m in \u001b[0;36mcall\u001b[1;34m(self, ctx, args, cancellation_manager)\u001b[0m\n\u001b[0;32m    553\u001b[0m       \u001b[1;32mwith\u001b[0m \u001b[0m_InterpolateFunctionError\u001b[0m\u001b[1;33m(\u001b[0m\u001b[0mself\u001b[0m\u001b[1;33m)\u001b[0m\u001b[1;33m:\u001b[0m\u001b[1;33m\u001b[0m\u001b[1;33m\u001b[0m\u001b[0m\n\u001b[0;32m    554\u001b[0m         \u001b[1;32mif\u001b[0m \u001b[0mcancellation_manager\u001b[0m \u001b[1;32mis\u001b[0m \u001b[1;32mNone\u001b[0m\u001b[1;33m:\u001b[0m\u001b[1;33m\u001b[0m\u001b[1;33m\u001b[0m\u001b[0m\n\u001b[1;32m--> 555\u001b[1;33m           outputs = execute.execute(\n\u001b[0m\u001b[0;32m    556\u001b[0m               \u001b[0mstr\u001b[0m\u001b[1;33m(\u001b[0m\u001b[0mself\u001b[0m\u001b[1;33m.\u001b[0m\u001b[0msignature\u001b[0m\u001b[1;33m.\u001b[0m\u001b[0mname\u001b[0m\u001b[1;33m)\u001b[0m\u001b[1;33m,\u001b[0m\u001b[1;33m\u001b[0m\u001b[1;33m\u001b[0m\u001b[0m\n\u001b[0;32m    557\u001b[0m               \u001b[0mnum_outputs\u001b[0m\u001b[1;33m=\u001b[0m\u001b[0mself\u001b[0m\u001b[1;33m.\u001b[0m\u001b[0m_num_outputs\u001b[0m\u001b[1;33m,\u001b[0m\u001b[1;33m\u001b[0m\u001b[1;33m\u001b[0m\u001b[0m\n",
      "\u001b[1;32m~\\Anaconda3\\lib\\site-packages\\tensorflow\\python\\eager\\execute.py\u001b[0m in \u001b[0;36mquick_execute\u001b[1;34m(op_name, num_outputs, inputs, attrs, ctx, name)\u001b[0m\n\u001b[0;32m     57\u001b[0m   \u001b[1;32mtry\u001b[0m\u001b[1;33m:\u001b[0m\u001b[1;33m\u001b[0m\u001b[1;33m\u001b[0m\u001b[0m\n\u001b[0;32m     58\u001b[0m     \u001b[0mctx\u001b[0m\u001b[1;33m.\u001b[0m\u001b[0mensure_initialized\u001b[0m\u001b[1;33m(\u001b[0m\u001b[1;33m)\u001b[0m\u001b[1;33m\u001b[0m\u001b[1;33m\u001b[0m\u001b[0m\n\u001b[1;32m---> 59\u001b[1;33m     tensors = pywrap_tfe.TFE_Py_Execute(ctx._handle, device_name, op_name,\n\u001b[0m\u001b[0;32m     60\u001b[0m                                         inputs, attrs, num_outputs)\n\u001b[0;32m     61\u001b[0m   \u001b[1;32mexcept\u001b[0m \u001b[0mcore\u001b[0m\u001b[1;33m.\u001b[0m\u001b[0m_NotOkStatusException\u001b[0m \u001b[1;32mas\u001b[0m \u001b[0me\u001b[0m\u001b[1;33m:\u001b[0m\u001b[1;33m\u001b[0m\u001b[1;33m\u001b[0m\u001b[0m\n",
      "\u001b[1;31mKeyboardInterrupt\u001b[0m: "
     ]
    }
   ],
   "source": [
    "# 엄청난 과적합 이므로 Dropout을 추가 후 해보자\n",
    "history = model.fit(X_train,y_train_encoding\n",
    "          , epochs=30, batch_size=128, validation_split=0.2)"
   ]
  },
  {
   "cell_type": "code",
   "execution_count": 23,
   "metadata": {},
   "outputs": [
    {
     "name": "stdout",
     "output_type": "stream",
     "text": [
      "Model: \"sequential_6\"\n",
      "_________________________________________________________________\n",
      "Layer (type)                 Output Shape              Param #   \n",
      "=================================================================\n",
      "lstm_6 (LSTM)                (None, 600, 32)           4992      \n",
      "_________________________________________________________________\n",
      "dropout_4 (Dropout)          (None, 600, 32)           0         \n",
      "_________________________________________________________________\n",
      "dense_10 (Dense)             (None, 600, 128)          4224      \n",
      "_________________________________________________________________\n",
      "dropout_5 (Dropout)          (None, 600, 128)          0         \n",
      "_________________________________________________________________\n",
      "flatten_3 (Flatten)          (None, 76800)             0         \n",
      "_________________________________________________________________\n",
      "dense_11 (Dense)             (None, 61)                4684861   \n",
      "=================================================================\n",
      "Total params: 4,694,077\n",
      "Trainable params: 4,694,077\n",
      "Non-trainable params: 0\n",
      "_________________________________________________________________\n"
     ]
    }
   ],
   "source": [
    "# op= adam,loss mse 했을때 정확도 0 나옴\n",
    "from keras.models import Sequential\n",
    "from keras.layers import LSTM,Dense, Flatten,Dropout\n",
    "\n",
    "np.random.seed(0)\n",
    "model = Sequential()\n",
    "model.add(LSTM(32, input_shape=(600,6), return_sequences=True))\n",
    "model.add(Dropout(0.1))\n",
    "model.add(Dense(128, activation='relu'))\n",
    "model.add(Dropout(0.1))\n",
    "model.add(Flatten())\n",
    "model.add(Dense(61,activation='softmax'))\n",
    "\n",
    "model.compile(optimizer='rmsprop', loss='categorical_crossentropy', metrics=['accuracy'])\n",
    "model.summary()"
   ]
  },
  {
   "cell_type": "code",
   "execution_count": 24,
   "metadata": {},
   "outputs": [
    {
     "name": "stdout",
     "output_type": "stream",
     "text": [
      "Epoch 1/30\n",
      "16/16 [==============================] - 19s 950ms/step - loss: 10.9421 - accuracy: 0.2185 - val_loss: 4.3121 - val_accuracy: 0.4240\n",
      "Epoch 2/30\n",
      "16/16 [==============================] - 15s 914ms/step - loss: 2.5247 - accuracy: 0.5520 - val_loss: 2.9495 - val_accuracy: 0.4400\n",
      "Epoch 3/30\n",
      "16/16 [==============================] - 14s 909ms/step - loss: 1.0409 - accuracy: 0.7166 - val_loss: 2.7615 - val_accuracy: 0.4400\n",
      "Epoch 4/30\n",
      "16/16 [==============================] - 14s 906ms/step - loss: 0.5299 - accuracy: 0.8673 - val_loss: 2.4616 - val_accuracy: 0.5000\n",
      "Epoch 5/30\n",
      "16/16 [==============================] - 14s 901ms/step - loss: 0.1843 - accuracy: 0.9602 - val_loss: 2.5052 - val_accuracy: 0.5380\n",
      "Epoch 6/30\n",
      "16/16 [==============================] - 14s 910ms/step - loss: 0.2102 - accuracy: 0.9557 - val_loss: 2.8423 - val_accuracy: 0.5240\n",
      "Epoch 7/30\n",
      "16/16 [==============================] - 14s 897ms/step - loss: 0.1148 - accuracy: 0.9689 - val_loss: 2.5559 - val_accuracy: 0.5660\n",
      "Epoch 8/30\n",
      "16/16 [==============================] - 14s 873ms/step - loss: 0.0312 - accuracy: 0.9913 - val_loss: 2.6161 - val_accuracy: 0.5680\n",
      "Epoch 9/30\n",
      "16/16 [==============================] - 14s 900ms/step - loss: 0.0148 - accuracy: 0.9975 - val_loss: 2.6945 - val_accuracy: 0.5620\n",
      "Epoch 10/30\n",
      "16/16 [==============================] - 13s 804ms/step - loss: 0.0893 - accuracy: 0.9822 - val_loss: 3.8053 - val_accuracy: 0.5440\n",
      "Epoch 11/30\n",
      "16/16 [==============================] - 31s 2s/step - loss: 0.0430 - accuracy: 0.9877 - val_loss: 3.0299 - val_accuracy: 0.5720\n",
      "Epoch 12/30\n",
      "16/16 [==============================] - 14s 880ms/step - loss: 0.0043 - accuracy: 0.9996 - val_loss: 3.1408 - val_accuracy: 0.5700\n",
      "Epoch 13/30\n",
      "16/16 [==============================] - 14s 896ms/step - loss: 0.0113 - accuracy: 0.9966 - val_loss: 3.3160 - val_accuracy: 0.5700\n",
      "Epoch 14/30\n",
      "16/16 [==============================] - 14s 890ms/step - loss: 0.0068 - accuracy: 0.9984 - val_loss: 3.4083 - val_accuracy: 0.5720\n",
      "Epoch 15/30\n",
      "16/16 [==============================] - 14s 899ms/step - loss: 0.0048 - accuracy: 0.9989 - val_loss: 3.9002 - val_accuracy: 0.5640\n",
      "Epoch 16/30\n",
      "16/16 [==============================] - 15s 921ms/step - loss: 0.0019 - accuracy: 1.0000 - val_loss: 3.6609 - val_accuracy: 0.5760\n",
      "Epoch 17/30\n",
      "16/16 [==============================] - 14s 906ms/step - loss: 3.5313e-04 - accuracy: 1.0000 - val_loss: 3.5514 - val_accuracy: 0.5640\n",
      "Epoch 18/30\n",
      "16/16 [==============================] - 14s 902ms/step - loss: 0.0022 - accuracy: 0.9993 - val_loss: 5.5475 - val_accuracy: 0.1580\n",
      "Epoch 19/30\n",
      "16/16 [==============================] - 15s 920ms/step - loss: 0.5219 - accuracy: 0.8621 - val_loss: 3.8246 - val_accuracy: 0.5640\n",
      "Epoch 20/30\n",
      "16/16 [==============================] - 14s 904ms/step - loss: 2.6594e-04 - accuracy: 1.0000 - val_loss: 3.8732 - val_accuracy: 0.5700\n",
      "Epoch 21/30\n",
      "16/16 [==============================] - 14s 899ms/step - loss: 1.5256e-04 - accuracy: 1.0000 - val_loss: 3.9195 - val_accuracy: 0.5740\n",
      "Epoch 22/30\n",
      "16/16 [==============================] - 14s 903ms/step - loss: 2.4935e-04 - accuracy: 1.0000 - val_loss: 4.0184 - val_accuracy: 0.5760\n",
      "Epoch 23/30\n",
      "16/16 [==============================] - 14s 911ms/step - loss: 1.2887e-04 - accuracy: 1.0000 - val_loss: 4.0796 - val_accuracy: 0.5700\n",
      "Epoch 24/30\n",
      "16/16 [==============================] - 14s 883ms/step - loss: 0.0072 - accuracy: 0.9991 - val_loss: 4.1979 - val_accuracy: 0.5740\n",
      "Epoch 25/30\n",
      "16/16 [==============================] - 14s 900ms/step - loss: 6.1278e-04 - accuracy: 0.9999 - val_loss: 4.1463 - val_accuracy: 0.5780\n",
      "Epoch 26/30\n",
      "16/16 [==============================] - 14s 894ms/step - loss: 6.5196e-04 - accuracy: 0.9994 - val_loss: 4.2416 - val_accuracy: 0.5720\n",
      "Epoch 27/30\n",
      "16/16 [==============================] - 13s 843ms/step - loss: 4.2602e-05 - accuracy: 1.0000 - val_loss: 4.2563 - val_accuracy: 0.5820\n",
      "Epoch 28/30\n",
      "16/16 [==============================] - 14s 889ms/step - loss: 0.0474 - accuracy: 0.9851 - val_loss: 4.3991 - val_accuracy: 0.5680\n",
      "Epoch 29/30\n",
      "16/16 [==============================] - 14s 904ms/step - loss: 9.8288e-05 - accuracy: 1.0000 - val_loss: 4.4019 - val_accuracy: 0.5680\n",
      "Epoch 30/30\n",
      "16/16 [==============================] - 14s 893ms/step - loss: 5.6350e-05 - accuracy: 1.0000 - val_loss: 4.4119 - val_accuracy: 0.5680\n"
     ]
    }
   ],
   "source": [
    "history = model.fit(X_train,y_train_encoding\n",
    "          , epochs=30, batch_size=128, validation_split=0.2)"
   ]
  },
  {
   "cell_type": "code",
   "execution_count": 25,
   "metadata": {},
   "outputs": [],
   "source": [
    "y_pred = model.predict(X_test)"
   ]
  },
  {
   "cell_type": "code",
   "execution_count": 26,
   "metadata": {},
   "outputs": [
    {
     "data": {
      "text/plain": [
       "array([[3.8271796e-07, 2.9343821e-06, 5.4819588e-10, ..., 2.2442133e-08,\n",
       "        1.4729980e-07, 9.8925526e-08],\n",
       "       [1.2678292e-08, 2.2346822e-09, 7.5998834e-08, ..., 2.3385178e-08,\n",
       "        7.1340085e-09, 1.2896312e-11],\n",
       "       [3.8430630e-06, 4.2264305e-06, 9.0953101e-10, ..., 9.4389253e-07,\n",
       "        1.2833038e-07, 5.2714982e-04],\n",
       "       ...,\n",
       "       [1.7837614e-12, 9.9386081e-16, 4.5308687e-13, ..., 3.7514176e-17,\n",
       "        5.3825750e-12, 5.9461320e-14],\n",
       "       [3.3270480e-05, 3.8214457e-10, 3.7643771e-05, ..., 6.8480822e-06,\n",
       "        2.0725854e-05, 3.3739809e-08],\n",
       "       [2.1589921e-09, 7.8185747e-10, 8.4737251e-03, ..., 1.8714115e-04,\n",
       "        2.5855345e-04, 7.7055522e-11]], dtype=float32)"
      ]
     },
     "execution_count": 26,
     "metadata": {},
     "output_type": "execute_result"
    }
   ],
   "source": [
    "y_pred"
   ]
  },
  {
   "cell_type": "code",
   "execution_count": 29,
   "metadata": {},
   "outputs": [
    {
     "data": {
      "text/plain": [
       "array([[0., 0., 0., ..., 0., 0., 0.],\n",
       "       [0., 0., 0., ..., 0., 0., 0.],\n",
       "       [0., 0., 0., ..., 0., 0., 0.],\n",
       "       ...,\n",
       "       [0., 0., 0., ..., 0., 0., 0.],\n",
       "       [0., 0., 0., ..., 0., 0., 0.],\n",
       "       [0., 0., 1., ..., 0., 0., 0.]], dtype=float32)"
      ]
     },
     "execution_count": 29,
     "metadata": {},
     "output_type": "execute_result"
    }
   ],
   "source": [
    "y_test_encoding"
   ]
  },
  {
   "cell_type": "code",
   "execution_count": 30,
   "metadata": {},
   "outputs": [],
   "source": [
    "y_pred = model.predict(X_test)\n",
    "y_pred1 = list(y_pred)\n",
    "for a in range(0,625,1) :\n",
    "    for i in range(0,61,1) :\n",
    "        if (i == np.argmax(y_pred1[a])) : \n",
    "            y_pred1[a][i] = 1\n",
    "        else :\n",
    "            y_pred1[a][i] = 0"
   ]
  },
  {
   "cell_type": "code",
   "execution_count": 31,
   "metadata": {},
   "outputs": [
    {
     "name": "stdout",
     "output_type": "stream",
     "text": [
      "테스트 세트의 정확도: 0.99\n"
     ]
    }
   ],
   "source": [
    "print(\"테스트 세트의 정확도: {:.2f}\".format(np.mean(y_pred == y_test_encoding)))"
   ]
  },
  {
   "cell_type": "code",
   "execution_count": 32,
   "metadata": {},
   "outputs": [
    {
     "data": {
      "text/plain": [
       "TensorShape([782, 600, 6])"
      ]
     },
     "execution_count": 32,
     "metadata": {},
     "output_type": "execute_result"
    }
   ],
   "source": [
    "test_X=tf.reshape(np.array(test.iloc[:,2:]),[-1, 600, 6])\n",
    "test_X.shape"
   ]
  },
  {
   "cell_type": "code",
   "execution_count": 33,
   "metadata": {},
   "outputs": [],
   "source": [
    "prediction=model.predict(test_X)"
   ]
  },
  {
   "cell_type": "code",
   "execution_count": 34,
   "metadata": {},
   "outputs": [],
   "source": [
    "submission.iloc[:,1:]=prediction"
   ]
  },
  {
   "cell_type": "code",
   "execution_count": 35,
   "metadata": {},
   "outputs": [],
   "source": [
    "submission.to_csv('C:/Users/hu612/Desktop/School/수DA쟁이/Project/개인과제/data/LSTM/LSTM3.csv', index=False)"
   ]
  },
  {
   "cell_type": "markdown",
   "metadata": {},
   "source": [
    "LSTM3 : 4.3238"
   ]
  },
  {
   "cell_type": "markdown",
   "metadata": {},
   "source": [
    "# 4. BILSTM"
   ]
  },
  {
   "cell_type": "code",
   "execution_count": 68,
   "metadata": {},
   "outputs": [],
   "source": [
    "import tensorflow as tf\n",
    "X_train = train[(train['id']>= 0) & (train['id']<=2499)]\n",
    "X_test = train[train['id'] >= 2500]\n",
    "X_train = tf.reshape(np.array(X_train.iloc[:,2:]),[-1, 600, 6])\n",
    "X_test = tf.reshape(np.array(X_test.iloc[:,2:]),[-1, 600, 6])\n",
    "\n",
    "from tensorflow.keras.utils import to_categorical\n",
    "y =  train_labels['label']\n",
    "slice_arr = slice(0,2500,1)\n",
    "y_train = y[slice_arr]\n",
    "\n",
    "slice_arr2 = slice(2500,3125,1)\n",
    "y_test = y[slice_arr2]\n",
    "\n",
    "y_train_encoding = tf.keras.utils.to_categorical(y_train)\n",
    "y_test_encoding = tf.keras.utils.to_categorical(y_test)"
   ]
  },
  {
   "cell_type": "code",
   "execution_count": 69,
   "metadata": {},
   "outputs": [
    {
     "data": {
      "text/plain": [
       "TensorShape([2500, 600, 6])"
      ]
     },
     "execution_count": 69,
     "metadata": {},
     "output_type": "execute_result"
    }
   ],
   "source": [
    "X_train.shape"
   ]
  },
  {
   "cell_type": "code",
   "execution_count": 67,
   "metadata": {},
   "outputs": [],
   "source": [
    "from tensorflow.keras.layers import Dense, Embedding, Bidirectional, LSTM, Concatenate, Dropout\n",
    "from tensorflow.keras import Input, Model\n",
    "from tensorflow.keras import optimizers\n",
    "import os\n",
    "\n",
    "np.random.seed(0)\n",
    "model = Sequential()\n",
    "model.add(LSTM(32,input_shape=(600,6), return_sequences = True))\n",
    "model.add(Bidirectional(LSTM(32)))#,input_shape=(600,6))))\n",
    "model.add(Dense(128, activation='relu'))\n",
    "model.add(Flatten())\n",
    "model.add(Dense(61,activation='softmax'))\n",
    "\n",
    "model.compile(optimizer='rmsprop', loss='categorical_crossentropy', metrics=['accuracy'])"
   ]
  },
  {
   "cell_type": "code",
   "execution_count": 70,
   "metadata": {},
   "outputs": [
    {
     "name": "stdout",
     "output_type": "stream",
     "text": [
      "Model: \"sequential_18\"\n",
      "_________________________________________________________________\n",
      "Layer (type)                 Output Shape              Param #   \n",
      "=================================================================\n",
      "lstm_20 (LSTM)               (None, 600, 32)           4992      \n",
      "_________________________________________________________________\n",
      "bidirectional_9 (Bidirection (None, 64)                16640     \n",
      "_________________________________________________________________\n",
      "dense_28 (Dense)             (None, 128)               8320      \n",
      "_________________________________________________________________\n",
      "flatten_12 (Flatten)         (None, 128)               0         \n",
      "_________________________________________________________________\n",
      "dense_29 (Dense)             (None, 61)                7869      \n",
      "=================================================================\n",
      "Total params: 37,821\n",
      "Trainable params: 37,821\n",
      "Non-trainable params: 0\n",
      "_________________________________________________________________\n"
     ]
    }
   ],
   "source": [
    "model.summary()"
   ]
  },
  {
   "cell_type": "code",
   "execution_count": 71,
   "metadata": {},
   "outputs": [],
   "source": [
    "from tensorflow.keras.callbacks import EarlyStopping, ModelCheckpoint\n",
    "es = EarlyStopping(monitor='val_loss', mode='min', verbose=1, patience=4)\n",
    "mc = ModelCheckpoint('best_model.h5', monitor='val_acc', mode='max', verbose=1, save_best_only=True)"
   ]
  },
  {
   "cell_type": "code",
   "execution_count": 72,
   "metadata": {},
   "outputs": [
    {
     "name": "stdout",
     "output_type": "stream",
     "text": [
      "Epoch 1/30\n",
      "16/16 [==============================] - 54s 3s/step - loss: 3.7101 - accuracy: 0.3070 - val_loss: 2.7920 - val_accuracy: 0.4860\n",
      "WARNING:tensorflow:Can save best model only with val_acc available, skipping.\n",
      "Epoch 2/30\n",
      "16/16 [==============================] - 42s 3s/step - loss: 2.7517 - accuracy: 0.4861 - val_loss: 2.7555 - val_accuracy: 0.4860\n",
      "WARNING:tensorflow:Can save best model only with val_acc available, skipping.\n",
      "Epoch 3/30\n",
      "16/16 [==============================] - 38s 2s/step - loss: 2.6723 - accuracy: 0.4881 - val_loss: 2.7129 - val_accuracy: 0.4860\n",
      "WARNING:tensorflow:Can save best model only with val_acc available, skipping.\n",
      "Epoch 4/30\n",
      "16/16 [==============================] - 39s 2s/step - loss: 2.6054 - accuracy: 0.4930 - val_loss: 2.7093 - val_accuracy: 0.4860\n",
      "WARNING:tensorflow:Can save best model only with val_acc available, skipping.\n",
      "Epoch 5/30\n",
      "16/16 [==============================] - 41s 3s/step - loss: 2.5949 - accuracy: 0.4865 - val_loss: 2.6604 - val_accuracy: 0.4880\n",
      "WARNING:tensorflow:Can save best model only with val_acc available, skipping.\n",
      "Epoch 6/30\n",
      "16/16 [==============================] - 39s 2s/step - loss: 2.4942 - accuracy: 0.4937 - val_loss: 2.6263 - val_accuracy: 0.4880\n",
      "WARNING:tensorflow:Can save best model only with val_acc available, skipping.\n",
      "Epoch 7/30\n",
      "16/16 [==============================] - 40s 2s/step - loss: 2.4569 - accuracy: 0.4898 - val_loss: 2.5889 - val_accuracy: 0.4940\n",
      "WARNING:tensorflow:Can save best model only with val_acc available, skipping.\n",
      "Epoch 8/30\n",
      "16/16 [==============================] - 39s 2s/step - loss: 2.3356 - accuracy: 0.5025 - val_loss: 2.5626 - val_accuracy: 0.4980\n",
      "WARNING:tensorflow:Can save best model only with val_acc available, skipping.\n",
      "Epoch 9/30\n",
      "16/16 [==============================] - 37s 2s/step - loss: 2.3000 - accuracy: 0.4928 - val_loss: 2.5212 - val_accuracy: 0.4960\n",
      "WARNING:tensorflow:Can save best model only with val_acc available, skipping.\n",
      "Epoch 10/30\n",
      "16/16 [==============================] - 40s 3s/step - loss: 2.1960 - accuracy: 0.5066 - val_loss: 2.4721 - val_accuracy: 0.5060\n",
      "WARNING:tensorflow:Can save best model only with val_acc available, skipping.\n",
      "Epoch 11/30\n",
      "16/16 [==============================] - 38s 2s/step - loss: 2.1610 - accuracy: 0.5083 - val_loss: 2.4189 - val_accuracy: 0.5140\n",
      "WARNING:tensorflow:Can save best model only with val_acc available, skipping.\n",
      "Epoch 12/30\n",
      "16/16 [==============================] - 40s 2s/step - loss: 2.1090 - accuracy: 0.5178 - val_loss: 2.3843 - val_accuracy: 0.5180\n",
      "WARNING:tensorflow:Can save best model only with val_acc available, skipping.\n",
      "Epoch 13/30\n",
      "16/16 [==============================] - 39s 2s/step - loss: 1.9875 - accuracy: 0.5333 - val_loss: 2.3847 - val_accuracy: 0.5180\n",
      "WARNING:tensorflow:Can save best model only with val_acc available, skipping.\n",
      "Epoch 14/30\n",
      "16/16 [==============================] - 40s 3s/step - loss: 1.8994 - accuracy: 0.5435 - val_loss: 2.3250 - val_accuracy: 0.5040\n",
      "WARNING:tensorflow:Can save best model only with val_acc available, skipping.\n",
      "Epoch 15/30\n",
      "16/16 [==============================] - 39s 2s/step - loss: 1.9255 - accuracy: 0.5307 - val_loss: 2.2925 - val_accuracy: 0.5160\n",
      "WARNING:tensorflow:Can save best model only with val_acc available, skipping.\n",
      "Epoch 16/30\n",
      "16/16 [==============================] - 40s 3s/step - loss: 1.8287 - accuracy: 0.5471 - val_loss: 2.2568 - val_accuracy: 0.5200\n",
      "WARNING:tensorflow:Can save best model only with val_acc available, skipping.\n",
      "Epoch 17/30\n",
      "16/16 [==============================] - 39s 2s/step - loss: 1.8073 - accuracy: 0.5445 - val_loss: 2.3015 - val_accuracy: 0.5260\n",
      "WARNING:tensorflow:Can save best model only with val_acc available, skipping.\n",
      "Epoch 18/30\n",
      "16/16 [==============================] - 40s 2s/step - loss: 1.7215 - accuracy: 0.5620 - val_loss: 2.2449 - val_accuracy: 0.5220\n",
      "WARNING:tensorflow:Can save best model only with val_acc available, skipping.\n",
      "Epoch 19/30\n",
      "16/16 [==============================] - 39s 2s/step - loss: 1.6799 - accuracy: 0.5627 - val_loss: 2.2702 - val_accuracy: 0.5280\n",
      "WARNING:tensorflow:Can save best model only with val_acc available, skipping.\n",
      "Epoch 20/30\n",
      "16/16 [==============================] - 40s 2s/step - loss: 1.6186 - accuracy: 0.5759 - val_loss: 2.2253 - val_accuracy: 0.5320\n",
      "WARNING:tensorflow:Can save best model only with val_acc available, skipping.\n",
      "Epoch 21/30\n",
      "16/16 [==============================] - 40s 2s/step - loss: 1.6067 - accuracy: 0.5732 - val_loss: 2.2132 - val_accuracy: 0.5260\n",
      "WARNING:tensorflow:Can save best model only with val_acc available, skipping.\n",
      "Epoch 22/30\n",
      "16/16 [==============================] - 39s 2s/step - loss: 1.5785 - accuracy: 0.5736 - val_loss: 2.2397 - val_accuracy: 0.5180\n",
      "WARNING:tensorflow:Can save best model only with val_acc available, skipping.\n",
      "Epoch 23/30\n",
      "16/16 [==============================] - 39s 2s/step - loss: 1.4764 - accuracy: 0.6040 - val_loss: 2.2799 - val_accuracy: 0.5320\n",
      "WARNING:tensorflow:Can save best model only with val_acc available, skipping.\n",
      "Epoch 24/30\n",
      "16/16 [==============================] - 38s 2s/step - loss: 1.5368 - accuracy: 0.5976 - val_loss: 2.2384 - val_accuracy: 0.5260\n",
      "WARNING:tensorflow:Can save best model only with val_acc available, skipping.\n",
      "Epoch 25/30\n",
      "16/16 [==============================] - 38s 2s/step - loss: 1.4909 - accuracy: 0.5941 - val_loss: 2.2981 - val_accuracy: 0.5240\n",
      "WARNING:tensorflow:Can save best model only with val_acc available, skipping.\n",
      "Epoch 00025: early stopping\n"
     ]
    }
   ],
   "source": [
    "history = model.fit(X_train,y_train_encoding\n",
    "          , epochs=30, batch_size=128,callbacks=[es,mc], validation_split=0.2)"
   ]
  },
  {
   "cell_type": "code",
   "execution_count": 64,
   "metadata": {
    "scrolled": true
   },
   "outputs": [
    {
     "name": "stdout",
     "output_type": "stream",
     "text": [
      "20/20 [==============================] - 3s 152ms/step - loss: 2.0583 - accuracy: 0.5360\n",
      "테스트 정확도: 0.5360\n"
     ]
    }
   ],
   "source": [
    "from tensorflow.keras.models import load_model\n",
    "print(\"테스트 정확도: %.4f\" % model.evaluate(X_test, y_test_encoding)[1])"
   ]
  },
  {
   "cell_type": "code",
   "execution_count": null,
   "metadata": {},
   "outputs": [],
   "source": []
  }
 ],
 "metadata": {
  "kernelspec": {
   "display_name": "Python 3",
   "language": "python",
   "name": "python3"
  },
  "language_info": {
   "codemirror_mode": {
    "name": "ipython",
    "version": 3
   },
   "file_extension": ".py",
   "mimetype": "text/x-python",
   "name": "python",
   "nbconvert_exporter": "python",
   "pygments_lexer": "ipython3",
   "version": "3.8.5"
  }
 },
 "nbformat": 4,
 "nbformat_minor": 4
}
