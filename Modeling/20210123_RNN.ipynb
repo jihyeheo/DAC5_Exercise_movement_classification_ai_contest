{
 "cells": [
  {
   "cell_type": "markdown",
   "metadata": {},
   "source": [
    "# 1. 데이터 불러오기"
   ]
  },
  {
   "cell_type": "code",
   "execution_count": 1,
   "metadata": {},
   "outputs": [],
   "source": [
    "import os\n",
    "os.chdir('C:/Users/hu612/Desktop/School/수DA쟁이/Project/개인과제/data')"
   ]
  },
  {
   "cell_type": "code",
   "execution_count": 2,
   "metadata": {},
   "outputs": [],
   "source": [
    "import pandas as pd\n",
    "import numpy as np\n",
    "\n",
    "train=pd.read_csv('train_features.csv')\n",
    "train_labels=pd.read_csv('train_labels.csv')\n",
    "test=pd.read_csv('test_features.csv')\n",
    "submission=pd.read_csv('sample_submission.csv')"
   ]
  },
  {
   "cell_type": "markdown",
   "metadata": {},
   "source": [
    "# 2. Train Test 안나눈 RNN"
   ]
  },
  {
   "cell_type": "code",
   "execution_count": 40,
   "metadata": {},
   "outputs": [
    {
     "data": {
      "text/plain": [
       "TensorShape([3125, 600, 6])"
      ]
     },
     "execution_count": 40,
     "metadata": {},
     "output_type": "execute_result"
    }
   ],
   "source": [
    "import tensorflow as tf\n",
    "X=tf.reshape(np.array(train.iloc[:,2:]),[-1, 600, 6])\n",
    "X.shape"
   ]
  },
  {
   "cell_type": "code",
   "execution_count": 41,
   "metadata": {},
   "outputs": [
    {
     "data": {
      "text/plain": [
       "(3125, 61)"
      ]
     },
     "execution_count": 41,
     "metadata": {},
     "output_type": "execute_result"
    }
   ],
   "source": [
    "y = tf.keras.utils.to_categorical(train_labels['label']) \n",
    "y.shape"
   ]
  },
  {
   "cell_type": "code",
   "execution_count": 42,
   "metadata": {},
   "outputs": [
    {
     "name": "stdout",
     "output_type": "stream",
     "text": [
      "Model: \"sequential_12\"\n",
      "_________________________________________________________________\n",
      "Layer (type)                 Output Shape              Param #   \n",
      "=================================================================\n",
      "simple_rnn_12 (SimpleRNN)    (None, 32)                1248      \n",
      "_________________________________________________________________\n",
      "dense_20 (Dense)             (None, 128)               4224      \n",
      "_________________________________________________________________\n",
      "dense_21 (Dense)             (None, 61)                7869      \n",
      "=================================================================\n",
      "Total params: 13,341\n",
      "Trainable params: 13,341\n",
      "Non-trainable params: 0\n",
      "_________________________________________________________________\n"
     ]
    }
   ],
   "source": [
    "from keras.models import Sequential\n",
    "from keras.layers import SimpleRNN,Dense\n",
    "\n",
    "np.random.seed(0)\n",
    "model = Sequential()\n",
    "model.add(SimpleRNN(32, input_shape=(600,6)))\n",
    "model.add(Dense(128, activation='relu'))\n",
    "model.add(Dense(61,activation='softmax'))\n",
    "\n",
    "model.compile(loss='categorical_crossentropy', optimizer='adam', metrics=['accuracy'])\n",
    "model.summary()"
   ]
  },
  {
   "cell_type": "code",
   "execution_count": 43,
   "metadata": {},
   "outputs": [
    {
     "name": "stdout",
     "output_type": "stream",
     "text": [
      "Epoch 1/30\n",
      "20/20 [==============================] - 2s 75ms/step - loss: 3.9674 - accuracy: 0.0977 - val_loss: 3.2683 - val_accuracy: 0.4928\n",
      "Epoch 2/30\n",
      "20/20 [==============================] - 1s 65ms/step - loss: 3.1045 - accuracy: 0.4789 - val_loss: 2.8246 - val_accuracy: 0.4976\n",
      "Epoch 3/30\n",
      "20/20 [==============================] - 1s 68ms/step - loss: 2.7587 - accuracy: 0.4882 - val_loss: 2.7557 - val_accuracy: 0.4976\n",
      "Epoch 4/30\n",
      "20/20 [==============================] - 1s 70ms/step - loss: 2.7617 - accuracy: 0.4651 - val_loss: 2.7279 - val_accuracy: 0.4976\n",
      "Epoch 5/30\n",
      "20/20 [==============================] - 1s 72ms/step - loss: 2.6912 - accuracy: 0.4764 - val_loss: 2.7034 - val_accuracy: 0.4976\n",
      "Epoch 6/30\n",
      "20/20 [==============================] - 1s 71ms/step - loss: 2.6640 - accuracy: 0.4703 - val_loss: 2.6802 - val_accuracy: 0.4976\n",
      "Epoch 7/30\n",
      "20/20 [==============================] - 1s 72ms/step - loss: 2.6063 - accuracy: 0.4773 - val_loss: 2.6572 - val_accuracy: 0.4976\n",
      "Epoch 8/30\n",
      "20/20 [==============================] - 1s 73ms/step - loss: 2.6072 - accuracy: 0.4671 - val_loss: 2.6348 - val_accuracy: 0.4976\n",
      "Epoch 9/30\n",
      "20/20 [==============================] - 1s 71ms/step - loss: 2.5021 - accuracy: 0.4826 - val_loss: 2.6171 - val_accuracy: 0.4992\n",
      "Epoch 10/30\n",
      "20/20 [==============================] - 1s 75ms/step - loss: 2.4811 - accuracy: 0.4818 - val_loss: 2.5966 - val_accuracy: 0.5024\n",
      "Epoch 11/30\n",
      "20/20 [==============================] - 1s 75ms/step - loss: 2.4654 - accuracy: 0.4829 - val_loss: 2.5771 - val_accuracy: 0.5072\n",
      "Epoch 12/30\n",
      "20/20 [==============================] - 2s 76ms/step - loss: 2.4181 - accuracy: 0.4921 - val_loss: 2.5698 - val_accuracy: 0.5072\n",
      "Epoch 13/30\n",
      "20/20 [==============================] - 1s 71ms/step - loss: 2.3554 - accuracy: 0.5028 - val_loss: 2.5564 - val_accuracy: 0.5136\n",
      "Epoch 14/30\n",
      "20/20 [==============================] - 1s 72ms/step - loss: 2.3687 - accuracy: 0.4939 - val_loss: 2.5403 - val_accuracy: 0.5088\n",
      "Epoch 15/30\n",
      "20/20 [==============================] - 1s 72ms/step - loss: 2.3790 - accuracy: 0.4848 - val_loss: 2.5308 - val_accuracy: 0.5104\n",
      "Epoch 16/30\n",
      "20/20 [==============================] - 1s 74ms/step - loss: 2.3454 - accuracy: 0.4893 - val_loss: 2.5264 - val_accuracy: 0.5120\n",
      "Epoch 17/30\n",
      "20/20 [==============================] - 1s 72ms/step - loss: 2.3195 - accuracy: 0.4969 - val_loss: 2.5189 - val_accuracy: 0.5120\n",
      "Epoch 18/30\n",
      "20/20 [==============================] - 1s 71ms/step - loss: 2.2710 - accuracy: 0.5000 - val_loss: 2.5063 - val_accuracy: 0.5136\n",
      "Epoch 19/30\n",
      "20/20 [==============================] - 1s 71ms/step - loss: 2.2847 - accuracy: 0.4909 - val_loss: 2.4998 - val_accuracy: 0.5152\n",
      "Epoch 20/30\n",
      "20/20 [==============================] - 1s 72ms/step - loss: 2.1718 - accuracy: 0.5228 - val_loss: 2.4947 - val_accuracy: 0.5136\n",
      "Epoch 21/30\n",
      "20/20 [==============================] - 1s 73ms/step - loss: 2.2054 - accuracy: 0.5061 - val_loss: 2.4868 - val_accuracy: 0.5152\n",
      "Epoch 22/30\n",
      "20/20 [==============================] - 1s 73ms/step - loss: 2.2196 - accuracy: 0.4939 - val_loss: 2.4795 - val_accuracy: 0.5168\n",
      "Epoch 23/30\n",
      "20/20 [==============================] - 1s 72ms/step - loss: 2.1408 - accuracy: 0.5118 - val_loss: 2.4863 - val_accuracy: 0.5152\n",
      "Epoch 24/30\n",
      "20/20 [==============================] - 1s 72ms/step - loss: 2.1674 - accuracy: 0.4992 - val_loss: 2.4684 - val_accuracy: 0.5168\n",
      "Epoch 25/30\n",
      "20/20 [==============================] - 1s 71ms/step - loss: 2.1228 - accuracy: 0.5145 - val_loss: 2.4686 - val_accuracy: 0.5120\n",
      "Epoch 26/30\n",
      "20/20 [==============================] - 1s 71ms/step - loss: 2.0644 - accuracy: 0.5256 - val_loss: 2.4606 - val_accuracy: 0.5152\n",
      "Epoch 27/30\n",
      "20/20 [==============================] - 1s 73ms/step - loss: 2.1181 - accuracy: 0.4947 - val_loss: 2.4541 - val_accuracy: 0.5136\n",
      "Epoch 28/30\n",
      "20/20 [==============================] - 1s 73ms/step - loss: 2.0733 - accuracy: 0.5076 - val_loss: 2.4479 - val_accuracy: 0.5120\n",
      "Epoch 29/30\n",
      "20/20 [==============================] - 1s 72ms/step - loss: 2.0531 - accuracy: 0.5142 - val_loss: 2.4418 - val_accuracy: 0.5104\n",
      "Epoch 30/30\n",
      "20/20 [==============================] - 1s 72ms/step - loss: 2.0554 - accuracy: 0.5073 - val_loss: 2.4465 - val_accuracy: 0.5120\n"
     ]
    },
    {
     "data": {
      "text/plain": [
       "<tensorflow.python.keras.callbacks.History at 0x21ec7f9a9a0>"
      ]
     },
     "execution_count": 43,
     "metadata": {},
     "output_type": "execute_result"
    }
   ],
   "source": [
    "model.fit(X,y, epochs=30, batch_size=128, validation_split=0.2)"
   ]
  },
  {
   "cell_type": "code",
   "execution_count": 44,
   "metadata": {},
   "outputs": [
    {
     "data": {
      "text/plain": [
       "TensorShape([782, 600, 6])"
      ]
     },
     "execution_count": 44,
     "metadata": {},
     "output_type": "execute_result"
    }
   ],
   "source": [
    "test_X=tf.reshape(np.array(test.iloc[:,2:]),[-1, 600, 6])\n",
    "test_X.shape"
   ]
  },
  {
   "cell_type": "code",
   "execution_count": 45,
   "metadata": {},
   "outputs": [],
   "source": [
    "pred=model.predict(test_X)"
   ]
  },
  {
   "cell_type": "code",
   "execution_count": 46,
   "metadata": {},
   "outputs": [],
   "source": [
    "submission.iloc[:,1:]=pred"
   ]
  },
  {
   "cell_type": "code",
   "execution_count": 47,
   "metadata": {},
   "outputs": [],
   "source": [
    "# 2는 loss 잘못씀 ㅜㅜ loss = mse 씀 ㅠㅠ\n",
    "submission.to_csv('C:/Users/hu612/Desktop/School/수DA쟁이/Project/개인과제/data/RNN/2-1.csv', index=False)"
   ]
  },
  {
   "attachments": {
    "image.png": {
     "image/png": "[encoded data removed]"
    }
   },
   "cell_type": "markdown",
   "metadata": {},
   "source": [
    "![image.png](attachment:image.png)"
   ]
  },
  {
   "cell_type": "markdown",
   "metadata": {},
   "source": [
    "# 3. Train Test 나눈 rnn(너무 안나옴)"
   ]
  },
  {
   "cell_type": "code",
   "execution_count": 18,
   "metadata": {},
   "outputs": [],
   "source": [
    "X_train = train[(train['id']>= 0) & (train['id']<=2499)]\n",
    "X_test = train[train['id'] >= 2500]\n",
    "X_train = tf.reshape(np.array(X_train.iloc[:,2:]),[-1, 600, 6])\n",
    "X_test = tf.reshape(np.array(X_test.iloc[:,2:]),[-1, 600, 6])\n",
    "\n",
    "from tensorflow.keras.utils import to_categorical\n",
    "y =  train_labels['label']\n",
    "slice_arr = slice(0,2500,1)\n",
    "y_train = y[slice_arr]\n",
    "\n",
    "slice_arr2 = slice(2500,3125,1)\n",
    "y_test = y[slice_arr2]\n",
    "\n",
    "y_train_encoding = tf.keras.utils.to_categorical(y_train)\n",
    "y_test_encoding = tf.keras.utils.to_categorical(y_test)"
   ]
  },
  {
   "cell_type": "code",
   "execution_count": 28,
   "metadata": {},
   "outputs": [
    {
     "name": "stdout",
     "output_type": "stream",
     "text": [
      "Model: \"sequential_7\"\n",
      "_________________________________________________________________\n",
      "Layer (type)                 Output Shape              Param #   \n",
      "=================================================================\n",
      "simple_rnn_7 (SimpleRNN)     (None, 32)                1248      \n",
      "_________________________________________________________________\n",
      "dense_10 (Dense)             (None, 128)               4224      \n",
      "_________________________________________________________________\n",
      "dense_11 (Dense)             (None, 61)                7869      \n",
      "=================================================================\n",
      "Total params: 13,341\n",
      "Trainable params: 13,341\n",
      "Non-trainable params: 0\n",
      "_________________________________________________________________\n"
     ]
    }
   ],
   "source": [
    "# op= adam,loss mse 했을때 정확도 0 나옴\n",
    "from keras.models import Sequential\n",
    "from keras.layers import SimpleRNN,Dense\n",
    "\n",
    "np.random.seed(0)\n",
    "model = Sequential()\n",
    "model.add(SimpleRNN(32, input_shape=(600,6)))\n",
    "model.add(Dense(128, activation='relu'))\n",
    "model.add(Dense(61,activation='softmax'))\n",
    "\n",
    "model.compile(optimizer='rmsprop', loss='categorical_crossentropy', metrics=['accuracy'])\n",
    "model.summary()"
   ]
  },
  {
   "cell_type": "code",
   "execution_count": 29,
   "metadata": {},
   "outputs": [
    {
     "name": "stdout",
     "output_type": "stream",
     "text": [
      "Epoch 1/30\n",
      "16/16 [==============================] - 2s 77ms/step - loss: 3.9889 - accuracy: 0.1230 - val_loss: 3.1944 - val_accuracy: 0.4860\n",
      "Epoch 2/30\n",
      "16/16 [==============================] - 1s 67ms/step - loss: 3.1181 - accuracy: 0.4698 - val_loss: 2.8322 - val_accuracy: 0.4860\n",
      "Epoch 3/30\n",
      "16/16 [==============================] - 1s 70ms/step - loss: 2.7961 - accuracy: 0.4803 - val_loss: 2.7859 - val_accuracy: 0.4860\n",
      "Epoch 4/30\n",
      "16/16 [==============================] - 1s 70ms/step - loss: 2.6874 - accuracy: 0.4881 - val_loss: 2.7676 - val_accuracy: 0.4860\n",
      "Epoch 5/30\n",
      "16/16 [==============================] - 1s 68ms/step - loss: 2.6467 - accuracy: 0.4861 - val_loss: 2.7496 - val_accuracy: 0.4860\n",
      "Epoch 6/30\n",
      "16/16 [==============================] - 1s 75ms/step - loss: 2.6844 - accuracy: 0.4678 - val_loss: 2.7361 - val_accuracy: 0.4860\n",
      "Epoch 7/30\n",
      "16/16 [==============================] - 1s 74ms/step - loss: 2.6517 - accuracy: 0.4609 - val_loss: 2.7232 - val_accuracy: 0.4860\n",
      "Epoch 8/30\n",
      "16/16 [==============================] - 1s 72ms/step - loss: 2.5377 - accuracy: 0.4875 - val_loss: 2.7053 - val_accuracy: 0.4860\n",
      "Epoch 9/30\n",
      "16/16 [==============================] - 1s 73ms/step - loss: 2.5371 - accuracy: 0.4788 - val_loss: 2.6940 - val_accuracy: 0.4860\n",
      "Epoch 10/30\n",
      "16/16 [==============================] - 1s 75ms/step - loss: 2.4831 - accuracy: 0.4857 - val_loss: 2.6765 - val_accuracy: 0.4880\n",
      "Epoch 11/30\n",
      "16/16 [==============================] - 1s 72ms/step - loss: 2.4849 - accuracy: 0.4808 - val_loss: 2.6684 - val_accuracy: 0.4880\n",
      "Epoch 12/30\n",
      "16/16 [==============================] - 1s 73ms/step - loss: 2.4592 - accuracy: 0.4829 - val_loss: 2.6597 - val_accuracy: 0.4960\n",
      "Epoch 13/30\n",
      "16/16 [==============================] - 1s 73ms/step - loss: 2.4087 - accuracy: 0.4939 - val_loss: 2.6519 - val_accuracy: 0.4880\n",
      "Epoch 14/30\n",
      "16/16 [==============================] - 1s 72ms/step - loss: 2.4219 - accuracy: 0.4768 - val_loss: 2.6436 - val_accuracy: 0.4900\n",
      "Epoch 15/30\n",
      "16/16 [==============================] - 1s 74ms/step - loss: 2.4306 - accuracy: 0.4757 - val_loss: 2.6364 - val_accuracy: 0.4940\n",
      "Epoch 16/30\n",
      "16/16 [==============================] - 1s 74ms/step - loss: 2.3671 - accuracy: 0.4877 - val_loss: 2.6332 - val_accuracy: 0.4880\n",
      "Epoch 17/30\n",
      "16/16 [==============================] - 1s 73ms/step - loss: 2.3213 - accuracy: 0.4884 - val_loss: 2.6277 - val_accuracy: 0.4980\n",
      "Epoch 18/30\n",
      "16/16 [==============================] - 1s 73ms/step - loss: 2.2741 - accuracy: 0.4956 - val_loss: 2.6221 - val_accuracy: 0.4960\n",
      "Epoch 19/30\n",
      "16/16 [==============================] - 1s 77ms/step - loss: 2.3034 - accuracy: 0.4855 - val_loss: 2.6263 - val_accuracy: 0.4920\n",
      "Epoch 20/30\n",
      "16/16 [==============================] - 1s 79ms/step - loss: 2.2495 - accuracy: 0.4922 - val_loss: 2.6161 - val_accuracy: 0.4960\n",
      "Epoch 21/30\n",
      "16/16 [==============================] - 1s 73ms/step - loss: 2.2923 - accuracy: 0.4757 - val_loss: 2.6065 - val_accuracy: 0.4960\n",
      "Epoch 22/30\n",
      "16/16 [==============================] - 1s 72ms/step - loss: 2.1764 - accuracy: 0.5100 - val_loss: 2.6011 - val_accuracy: 0.4940\n",
      "Epoch 23/30\n",
      "16/16 [==============================] - 1s 72ms/step - loss: 2.2169 - accuracy: 0.4861 - val_loss: 2.5976 - val_accuracy: 0.4980\n",
      "Epoch 24/30\n",
      "16/16 [==============================] - 1s 72ms/step - loss: 2.1890 - accuracy: 0.4985 - val_loss: 2.5848 - val_accuracy: 0.4960\n",
      "Epoch 25/30\n",
      "16/16 [==============================] - 1s 73ms/step - loss: 2.1496 - accuracy: 0.4902 - val_loss: 2.5927 - val_accuracy: 0.4940\n",
      "Epoch 26/30\n",
      "16/16 [==============================] - 1s 73ms/step - loss: 2.1862 - accuracy: 0.4811 - val_loss: 2.5892 - val_accuracy: 0.4980\n",
      "Epoch 27/30\n",
      "16/16 [==============================] - 1s 72ms/step - loss: 2.1178 - accuracy: 0.4941 - val_loss: 2.5907 - val_accuracy: 0.5020\n",
      "Epoch 28/30\n",
      "16/16 [==============================] - 1s 74ms/step - loss: 2.1098 - accuracy: 0.4869 - val_loss: 2.5642 - val_accuracy: 0.4980\n",
      "Epoch 29/30\n",
      "16/16 [==============================] - 1s 74ms/step - loss: 2.0811 - accuracy: 0.5024 - val_loss: 2.5679 - val_accuracy: 0.4960\n",
      "Epoch 30/30\n",
      "16/16 [==============================] - 1s 72ms/step - loss: 2.0496 - accuracy: 0.4967 - val_loss: 2.5678 - val_accuracy: 0.5020\n"
     ]
    }
   ],
   "source": [
    "history = model.fit(X_train,y_train_encoding\n",
    "          , epochs=30, batch_size=128, validation_split=0.2)"
   ]
  },
  {
   "cell_type": "code",
   "execution_count": 30,
   "metadata": {},
   "outputs": [],
   "source": [
    "y_pred = model.predict(X_test)"
   ]
  },
  {
   "cell_type": "code",
   "execution_count": 31,
   "metadata": {},
   "outputs": [
    {
     "name": "stdout",
     "output_type": "stream",
     "text": [
      "테스트 세트의 정확도: 0.00\n"
     ]
    }
   ],
   "source": [
    "print(\"테스트 세트의 정확도: {:.2f}\".format(np.mean(y_pred == y_test_encoding)))"
   ]
  },
  {
   "cell_type": "code",
   "execution_count": 23,
   "metadata": {},
   "outputs": [
    {
     "data": {
      "text/plain": [
       "TensorShape([782, 600, 6])"
      ]
     },
     "execution_count": 23,
     "metadata": {},
     "output_type": "execute_result"
    }
   ],
   "source": [
    "test_X=tf.reshape(np.array(test.iloc[:,2:]),[-1, 600, 6])\n",
    "test_X.shape"
   ]
  },
  {
   "cell_type": "code",
   "execution_count": 24,
   "metadata": {},
   "outputs": [],
   "source": [
    "prediction=model.predict(test_X)"
   ]
  },
  {
   "cell_type": "code",
   "execution_count": 25,
   "metadata": {},
   "outputs": [],
   "source": [
    "submission.iloc[:,1:]=prediction"
   ]
  },
  {
   "cell_type": "code",
   "execution_count": 26,
   "metadata": {},
   "outputs": [],
   "source": [
    "submission.to_csv('C:/Users/hu612/Desktop/School/수DA쟁이/Project/개인과제/data/RNN/3.csv', index=False)"
   ]
  },
  {
   "cell_type": "code",
   "execution_count": 33,
   "metadata": {},
   "outputs": [
    {
     "name": "stdout",
     "output_type": "stream",
     "text": [
      "Model: \"sequential_9\"\n",
      "_________________________________________________________________\n",
      "Layer (type)                 Output Shape              Param #   \n",
      "=================================================================\n",
      "simple_rnn_9 (SimpleRNN)     (None, 32)                1248      \n",
      "_________________________________________________________________\n",
      "dense_14 (Dense)             (None, 128)               4224      \n",
      "_________________________________________________________________\n",
      "dense_15 (Dense)             (None, 61)                7869      \n",
      "=================================================================\n",
      "Total params: 13,341\n",
      "Trainable params: 13,341\n",
      "Non-trainable params: 0\n",
      "_________________________________________________________________\n"
     ]
    }
   ],
   "source": [
    "from keras.models import Sequential\n",
    "from keras.layers import SimpleRNN,Dense\n",
    "\n",
    "np.random.seed(0)\n",
    "model = Sequential()\n",
    "model.add(SimpleRNN(32, input_shape=(600,6)))\n",
    "model.add(Dense(128, activation='relu'))\n",
    "model.add(Dense(61,activation='softmax'))\n",
    "\n",
    "model.compile(optimizer='sgd', loss='categorical_crossentropy', metrics=['accuracy'])\n",
    "model.summary()"
   ]
  },
  {
   "cell_type": "code",
   "execution_count": 34,
   "metadata": {},
   "outputs": [],
   "source": [
    "history = model.fit(X_train,y_train_encoding\n",
    "          , epochs=30, batch_size=128, validation_split=0.2,verbose=0)"
   ]
  },
  {
   "cell_type": "code",
   "execution_count": 35,
   "metadata": {},
   "outputs": [],
   "source": [
    "y_pred = model.predict(X_test)"
   ]
  },
  {
   "cell_type": "code",
   "execution_count": 36,
   "metadata": {},
   "outputs": [
    {
     "name": "stdout",
     "output_type": "stream",
     "text": [
      "테스트 세트의 정확도: 0.00\n"
     ]
    }
   ],
   "source": [
    "print(\"테스트 세트의 정확도: {:.2f}\".format(np.mean(y_pred == y_test_encoding)))"
   ]
  },
  {
   "cell_type": "code",
   "execution_count": null,
   "metadata": {},
   "outputs": [],
   "source": []
  }
 ],
 "metadata": {
  "kernelspec": {
   "display_name": "Python 3",
   "language": "python",
   "name": "python3"
  },
  "language_info": {
   "codemirror_mode": {
    "name": "ipython",
    "version": 3
   },
   "file_extension": ".py",
   "mimetype": "text/x-python",
   "name": "python",
   "nbconvert_exporter": "python",
   "pygments_lexer": "ipython3",
   "version": "3.8.5"
  }
 },
 "nbformat": 4,
 "nbformat_minor": 4
}
