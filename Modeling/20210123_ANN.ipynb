{
 "cells": [
  {
   "cell_type": "markdown",
   "metadata": {},
   "source": [
    "# 1. 데이터 불러오기"
   ]
  },
  {
   "cell_type": "code",
   "execution_count": 2,
   "metadata": {},
   "outputs": [],
   "source": [
    "import os\n",
    "os.chdir('C:/Users/hu612/Desktop/School/수DA쟁이/Project/개인과제/data')"
   ]
  },
  {
   "cell_type": "code",
   "execution_count": 3,
   "metadata": {},
   "outputs": [],
   "source": [
    "import pandas as pd\n",
    "import numpy as np\n",
    "\n",
    "train=pd.read_csv('train_features.csv')\n",
    "train_labels=pd.read_csv('train_labels.csv')\n",
    "test=pd.read_csv('test_features.csv')\n",
    "submission=pd.read_csv('sample_submission.csv')"
   ]
  },
  {
   "cell_type": "markdown",
   "metadata": {},
   "source": [
    "# 2. TRAIN TEST 안나눈 ANN-1"
   ]
  },
  {
   "cell_type": "code",
   "execution_count": 88,
   "metadata": {},
   "outputs": [
    {
     "data": {
      "text/plain": [
       "TensorShape([3125, 600, 6])"
      ]
     },
     "execution_count": 88,
     "metadata": {},
     "output_type": "execute_result"
    }
   ],
   "source": [
    "import tensorflow as tf\n",
    "X=tf.reshape(np.array(train.iloc[:,2:]),[-1, 600, 6])\n",
    "X.shape"
   ]
  },
  {
   "cell_type": "code",
   "execution_count": 89,
   "metadata": {},
   "outputs": [
    {
     "data": {
      "text/plain": [
       "(3125, 61)"
      ]
     },
     "execution_count": 89,
     "metadata": {},
     "output_type": "execute_result"
    }
   ],
   "source": [
    "y = tf.keras.utils.to_categorical(train_labels['label']) \n",
    "y.shape"
   ]
  },
  {
   "cell_type": "code",
   "execution_count": 90,
   "metadata": {},
   "outputs": [],
   "source": [
    "from keras.models import Sequential\n",
    "from keras.layers import Dense, LSTM, Flatten\n",
    "\n",
    "#가벼운 모델 생성\n",
    "model = Sequential()\n",
    "model.add(Dense(32, input_shape =(600,6)))\n",
    "model.add(Dense(128, activation='relu'))\n",
    "model.add(Flatten())\n",
    "model.add(Dense(61, activation='softmax'))\n",
    "\n",
    "model.compile(optimizer='rmsprop', loss='categorical_crossentropy', metrics=['accuracy'])"
   ]
  },
  {
   "cell_type": "code",
   "execution_count": 91,
   "metadata": {},
   "outputs": [
    {
     "name": "stdout",
     "output_type": "stream",
     "text": [
      "Model: \"sequential_16\"\n",
      "_________________________________________________________________\n",
      "Layer (type)                 Output Shape              Param #   \n",
      "=================================================================\n",
      "dense_44 (Dense)             (None, 600, 32)           224       \n",
      "_________________________________________________________________\n",
      "dense_45 (Dense)             (None, 600, 128)          4224      \n",
      "_________________________________________________________________\n",
      "flatten_3 (Flatten)          (None, 76800)             0         \n",
      "_________________________________________________________________\n",
      "dense_46 (Dense)             (None, 61)                4684861   \n",
      "=================================================================\n",
      "Total params: 4,689,309\n",
      "Trainable params: 4,689,309\n",
      "Non-trainable params: 0\n",
      "_________________________________________________________________\n"
     ]
    }
   ],
   "source": [
    "model.summary()"
   ]
  },
  {
   "cell_type": "code",
   "execution_count": 92,
   "metadata": {
    "scrolled": true
   },
   "outputs": [
    {
     "name": "stdout",
     "output_type": "stream",
     "text": [
      "Epoch 1/30\n",
      "20/20 [==============================] - 5s 210ms/step - loss: 519.7307 - accuracy: 0.1649 - val_loss: 155.3086 - val_accuracy: 0.2848\n",
      "Epoch 2/30\n",
      "20/20 [==============================] - 4s 192ms/step - loss: 91.2555 - accuracy: 0.3473 - val_loss: 55.9351 - val_accuracy: 0.1584\n",
      "Epoch 3/30\n",
      "20/20 [==============================] - 4s 203ms/step - loss: 17.9763 - accuracy: 0.4839 - val_loss: 30.6265 - val_accuracy: 0.1120\n",
      "Epoch 4/30\n",
      "20/20 [==============================] - 4s 202ms/step - loss: 7.1525 - accuracy: 0.5686 - val_loss: 16.9364 - val_accuracy: 0.5184\n",
      "Epoch 5/30\n",
      "20/20 [==============================] - 4s 207ms/step - loss: 4.8351 - accuracy: 0.5938 - val_loss: 10.8585 - val_accuracy: 0.5440\n",
      "Epoch 6/30\n",
      "20/20 [==============================] - 4s 199ms/step - loss: 2.8523 - accuracy: 0.6626 - val_loss: 15.3629 - val_accuracy: 0.1712\n",
      "Epoch 7/30\n",
      "20/20 [==============================] - 4s 191ms/step - loss: 2.7784 - accuracy: 0.6951 - val_loss: 16.2299 - val_accuracy: 0.1152\n",
      "Epoch 8/30\n",
      "20/20 [==============================] - 4s 195ms/step - loss: 3.8638 - accuracy: 0.6410 - val_loss: 11.9042 - val_accuracy: 0.4544\n",
      "Epoch 9/30\n",
      "20/20 [==============================] - 4s 193ms/step - loss: 2.0476 - accuracy: 0.7775 - val_loss: 13.5527 - val_accuracy: 0.2464\n",
      "Epoch 10/30\n",
      "20/20 [==============================] - 4s 190ms/step - loss: 1.5849 - accuracy: 0.7938 - val_loss: 9.7678 - val_accuracy: 0.5792\n",
      "Epoch 11/30\n",
      "20/20 [==============================] - 4s 195ms/step - loss: 2.2543 - accuracy: 0.8080 - val_loss: 12.2096 - val_accuracy: 0.5616\n",
      "Epoch 12/30\n",
      "20/20 [==============================] - 4s 193ms/step - loss: 1.4423 - accuracy: 0.8474 - val_loss: 15.4354 - val_accuracy: 0.3648\n",
      "Epoch 13/30\n",
      "20/20 [==============================] - 4s 191ms/step - loss: 0.9081 - accuracy: 0.8810 - val_loss: 29.2356 - val_accuracy: 0.5328\n",
      "Epoch 14/30\n",
      "20/20 [==============================] - 4s 190ms/step - loss: 4.3554 - accuracy: 0.7682 - val_loss: 31.3213 - val_accuracy: 0.4080\n",
      "Epoch 15/30\n",
      "20/20 [==============================] - 4s 195ms/step - loss: 3.1374 - accuracy: 0.8200 - val_loss: 16.8513 - val_accuracy: 0.4256\n",
      "Epoch 16/30\n",
      "20/20 [==============================] - 4s 191ms/step - loss: 2.3413 - accuracy: 0.8158 - val_loss: 21.1453 - val_accuracy: 0.5200\n",
      "Epoch 17/30\n",
      "20/20 [==============================] - 4s 201ms/step - loss: 0.4322 - accuracy: 0.9446 - val_loss: 27.8887 - val_accuracy: 0.5440\n",
      "Epoch 18/30\n",
      "20/20 [==============================] - 4s 192ms/step - loss: 2.4850 - accuracy: 0.8817 - val_loss: 20.3601 - val_accuracy: 0.3824\n",
      "Epoch 19/30\n",
      "20/20 [==============================] - 4s 193ms/step - loss: 2.4865 - accuracy: 0.8624 - val_loss: 18.9691 - val_accuracy: 0.5040\n",
      "Epoch 20/30\n",
      "20/20 [==============================] - 4s 193ms/step - loss: 0.8687 - accuracy: 0.9442 - val_loss: 24.2928 - val_accuracy: 0.5328\n",
      "Epoch 21/30\n",
      "20/20 [==============================] - 4s 194ms/step - loss: 0.5437 - accuracy: 0.9589 - val_loss: 27.4326 - val_accuracy: 0.5392\n",
      "Epoch 22/30\n",
      "20/20 [==============================] - 4s 192ms/step - loss: 1.1636 - accuracy: 0.9262 - val_loss: 23.1104 - val_accuracy: 0.5056\n",
      "Epoch 23/30\n",
      "20/20 [==============================] - 4s 196ms/step - loss: 0.1964 - accuracy: 0.9796 - val_loss: 32.3301 - val_accuracy: 0.3328\n",
      "Epoch 24/30\n",
      "20/20 [==============================] - 4s 196ms/step - loss: 2.5817 - accuracy: 0.8692 - val_loss: 28.3845 - val_accuracy: 0.5488\n",
      "Epoch 25/30\n",
      "20/20 [==============================] - 4s 211ms/step - loss: 1.2714 - accuracy: 0.9187 - val_loss: 30.1101 - val_accuracy: 0.5312\n",
      "Epoch 26/30\n",
      "20/20 [==============================] - 4s 197ms/step - loss: 0.5437 - accuracy: 0.9653 - val_loss: 35.9702 - val_accuracy: 0.5488\n",
      "Epoch 27/30\n",
      "20/20 [==============================] - 4s 198ms/step - loss: 0.2003 - accuracy: 0.9751 - val_loss: 46.3069 - val_accuracy: 0.2736\n",
      "Epoch 28/30\n",
      "20/20 [==============================] - 4s 200ms/step - loss: 4.0911 - accuracy: 0.8536 - val_loss: 32.8141 - val_accuracy: 0.5584\n",
      "Epoch 29/30\n",
      "20/20 [==============================] - 4s 198ms/step - loss: 0.1855 - accuracy: 0.9835 - val_loss: 47.1755 - val_accuracy: 0.3088\n",
      "Epoch 30/30\n",
      "20/20 [==============================] - 4s 200ms/step - loss: 1.9042 - accuracy: 0.9227 - val_loss: 39.6662 - val_accuracy: 0.5536\n"
     ]
    },
    {
     "data": {
      "text/plain": [
       "<tensorflow.python.keras.callbacks.History at 0x19f897702b0>"
      ]
     },
     "execution_count": 92,
     "metadata": {},
     "output_type": "execute_result"
    }
   ],
   "source": [
    "model.fit(X,y, epochs=30, batch_size=128, validation_split=0.2)"
   ]
  },
  {
   "cell_type": "code",
   "execution_count": 93,
   "metadata": {},
   "outputs": [
    {
     "data": {
      "text/plain": [
       "TensorShape([782, 600, 6])"
      ]
     },
     "execution_count": 93,
     "metadata": {},
     "output_type": "execute_result"
    }
   ],
   "source": [
    "test_X=tf.reshape(np.array(test.iloc[:,2:]),[-1, 600, 6])\n",
    "test_X.shape"
   ]
  },
  {
   "cell_type": "code",
   "execution_count": 94,
   "metadata": {},
   "outputs": [],
   "source": [
    "pred=model.predict(test_X)"
   ]
  },
  {
   "cell_type": "code",
   "execution_count": 95,
   "metadata": {},
   "outputs": [],
   "source": [
    "submission.iloc[:,1:]=prediction"
   ]
  },
  {
   "cell_type": "code",
   "execution_count": 96,
   "metadata": {},
   "outputs": [],
   "source": [
    "submission.to_csv('ann_1.csv', index=False)"
   ]
  },
  {
   "cell_type": "markdown",
   "metadata": {},
   "source": [
    "### 3번보다 logloss가 더 안좋음"
   ]
  },
  {
   "cell_type": "markdown",
   "metadata": {},
   "source": [
    "# 3. TRAIN, TEST 나눈 ANN-2"
   ]
  },
  {
   "cell_type": "code",
   "execution_count": 5,
   "metadata": {},
   "outputs": [],
   "source": [
    "import tensorflow as tf\n",
    "X_train = train[(train['id']>= 0) & (train['id']<=2499)]\n",
    "X_test = train[train['id'] >= 2500]\n",
    "X_train = tf.reshape(np.array(X_train.iloc[:,2:]),[-1, 600, 6])\n",
    "X_test = tf.reshape(np.array(X_test.iloc[:,2:]),[-1, 600, 6])"
   ]
  },
  {
   "cell_type": "code",
   "execution_count": 6,
   "metadata": {},
   "outputs": [],
   "source": [
    "from tensorflow.keras.utils import to_categorical\n",
    "y =  train_labels['label']"
   ]
  },
  {
   "cell_type": "code",
   "execution_count": 7,
   "metadata": {},
   "outputs": [],
   "source": [
    "slice_arr = slice(0,2500,1)\n",
    "y_train = y[slice_arr]"
   ]
  },
  {
   "cell_type": "code",
   "execution_count": 57,
   "metadata": {},
   "outputs": [
    {
     "data": {
      "text/plain": [
       "26    1207\n",
       "8       78\n",
       "28      46\n",
       "60      39\n",
       "18      35\n",
       "      ... \n",
       "52      11\n",
       "12       9\n",
       "13       8\n",
       "53       8\n",
       "0        7\n",
       "Name: label, Length: 61, dtype: int64"
      ]
     },
     "execution_count": 57,
     "metadata": {},
     "output_type": "execute_result"
    }
   ],
   "source": [
    "y_train.value_counts()"
   ]
  },
  {
   "cell_type": "code",
   "execution_count": 8,
   "metadata": {},
   "outputs": [],
   "source": [
    "slice_arr2 = slice(2500,3125,1)\n",
    "y_test = y[slice_arr2]"
   ]
  },
  {
   "cell_type": "code",
   "execution_count": 59,
   "metadata": {},
   "outputs": [
    {
     "data": {
      "text/plain": [
       "26    1207\n",
       "8       78\n",
       "28      46\n",
       "60      39\n",
       "18      35\n",
       "      ... \n",
       "52      11\n",
       "12       9\n",
       "13       8\n",
       "53       8\n",
       "0        7\n",
       "Name: label, Length: 61, dtype: int64"
      ]
     },
     "execution_count": 59,
     "metadata": {},
     "output_type": "execute_result"
    }
   ],
   "source": [
    "y_train.value_counts()"
   ]
  },
  {
   "cell_type": "code",
   "execution_count": 9,
   "metadata": {},
   "outputs": [],
   "source": [
    "y_train_encoding = tf.keras.utils.to_categorical(y_train)\n",
    "y_test_encoding = tf.keras.utils.to_categorical(y_test)"
   ]
  },
  {
   "cell_type": "code",
   "execution_count": 11,
   "metadata": {},
   "outputs": [
    {
     "name": "stdout",
     "output_type": "stream",
     "text": [
      "(2500, 600, 6)\n",
      "(2500, 61)\n",
      "(625, 600, 6)\n",
      "(625, 61)\n"
     ]
    }
   ],
   "source": [
    "print(X_train.shape)\n",
    "print(y_train_encoding.shape)\n",
    "print(X_test.shape)\n",
    "print(y_test_encoding.shape)"
   ]
  },
  {
   "cell_type": "code",
   "execution_count": 63,
   "metadata": {},
   "outputs": [],
   "source": [
    "from keras.models import Sequential\n",
    "from keras.layers import Dense, LSTM, Flatten\n",
    "\n",
    "#가벼운 모델 생성\n",
    "model = Sequential()\n",
    "model.add(Dense(32, input_shape =(600,6)))\n",
    "model.add(Dense(128, activation='relu'))\n",
    "model.add(Flatten())\n",
    "model.add(Dense(61, activation='softmax'))\n",
    "\n",
    "model.compile(optimizer='rmsprop', loss='categorical_crossentropy', metrics=['accuracy'])"
   ]
  },
  {
   "cell_type": "code",
   "execution_count": 64,
   "metadata": {},
   "outputs": [
    {
     "name": "stdout",
     "output_type": "stream",
     "text": [
      "Model: \"sequential_15\"\n",
      "_________________________________________________________________\n",
      "Layer (type)                 Output Shape              Param #   \n",
      "=================================================================\n",
      "dense_41 (Dense)             (None, 600, 32)           224       \n",
      "_________________________________________________________________\n",
      "dense_42 (Dense)             (None, 600, 128)          4224      \n",
      "_________________________________________________________________\n",
      "flatten_2 (Flatten)          (None, 76800)             0         \n",
      "_________________________________________________________________\n",
      "dense_43 (Dense)             (None, 61)                4684861   \n",
      "=================================================================\n",
      "Total params: 4,689,309\n",
      "Trainable params: 4,689,309\n",
      "Non-trainable params: 0\n",
      "_________________________________________________________________\n"
     ]
    }
   ],
   "source": [
    "model.summary()"
   ]
  },
  {
   "cell_type": "code",
   "execution_count": 66,
   "metadata": {
    "scrolled": true
   },
   "outputs": [
    {
     "name": "stdout",
     "output_type": "stream",
     "text": [
      "Epoch 1/30\n",
      "16/16 [==============================] - 3s 198ms/step - loss: 1.9018 - accuracy: 0.8145 - val_loss: 21.9350 - val_accuracy: 0.2980\n",
      "Epoch 2/30\n",
      "16/16 [==============================] - 3s 222ms/step - loss: 1.6473 - accuracy: 0.8440 - val_loss: 11.7266 - val_accuracy: 0.5540\n",
      "Epoch 3/30\n",
      "16/16 [==============================] - 3s 200ms/step - loss: 2.3412 - accuracy: 0.8355 - val_loss: 14.7032 - val_accuracy: 0.5340\n",
      "Epoch 4/30\n",
      "16/16 [==============================] - 3s 199ms/step - loss: 3.6350 - accuracy: 0.8115 - val_loss: 17.2157 - val_accuracy: 0.3020\n",
      "Epoch 5/30\n",
      "16/16 [==============================] - 3s 199ms/step - loss: 0.5563 - accuracy: 0.9190 - val_loss: 13.3700 - val_accuracy: 0.5200\n",
      "Epoch 6/30\n",
      "16/16 [==============================] - 3s 201ms/step - loss: 0.5248 - accuracy: 0.9375 - val_loss: 23.6382 - val_accuracy: 0.5120\n",
      "Epoch 7/30\n",
      "16/16 [==============================] - 3s 198ms/step - loss: 1.8609 - accuracy: 0.8450 - val_loss: 17.7125 - val_accuracy: 0.5420\n",
      "Epoch 8/30\n",
      "16/16 [==============================] - 3s 200ms/step - loss: 1.3210 - accuracy: 0.9200 - val_loss: 42.5724 - val_accuracy: 0.5160\n",
      "Epoch 9/30\n",
      "16/16 [==============================] - 3s 202ms/step - loss: 1.7746 - accuracy: 0.9220 - val_loss: 18.2562 - val_accuracy: 0.5660\n",
      "Epoch 10/30\n",
      "16/16 [==============================] - 3s 199ms/step - loss: 0.1114 - accuracy: 0.9785 - val_loss: 19.3183 - val_accuracy: 0.5240\n",
      "Epoch 11/30\n",
      "16/16 [==============================] - 3s 195ms/step - loss: 2.6304 - accuracy: 0.8655 - val_loss: 19.3975 - val_accuracy: 0.4800\n",
      "Epoch 12/30\n",
      "16/16 [==============================] - 3s 200ms/step - loss: 0.2983 - accuracy: 0.9655 - val_loss: 21.4289 - val_accuracy: 0.5500\n",
      "Epoch 13/30\n",
      "16/16 [==============================] - 3s 197ms/step - loss: 2.7040 - accuracy: 0.8810 - val_loss: 26.3154 - val_accuracy: 0.5420\n",
      "Epoch 14/30\n",
      "16/16 [==============================] - 3s 201ms/step - loss: 0.3955 - accuracy: 0.9700 - val_loss: 30.2820 - val_accuracy: 0.5420\n",
      "Epoch 15/30\n",
      "16/16 [==============================] - 3s 207ms/step - loss: 0.1412 - accuracy: 0.9815 - val_loss: 24.9129 - val_accuracy: 0.5220\n",
      "Epoch 16/30\n",
      "16/16 [==============================] - 3s 206ms/step - loss: 1.7962 - accuracy: 0.9040 - val_loss: 30.3772 - val_accuracy: 0.5360\n",
      "Epoch 17/30\n",
      "16/16 [==============================] - 3s 199ms/step - loss: 0.3813 - accuracy: 0.9595 - val_loss: 28.3299 - val_accuracy: 0.5160\n",
      "Epoch 18/30\n",
      "16/16 [==============================] - 3s 196ms/step - loss: 4.0445 - accuracy: 0.8855 - val_loss: 37.7550 - val_accuracy: 0.5240\n",
      "Epoch 19/30\n",
      "16/16 [==============================] - 3s 195ms/step - loss: 0.2905 - accuracy: 0.9825 - val_loss: 29.9641 - val_accuracy: 0.5400\n",
      "Epoch 20/30\n",
      "16/16 [==============================] - 3s 208ms/step - loss: 0.1157 - accuracy: 0.9865 - val_loss: 29.2354 - val_accuracy: 0.5360\n",
      "Epoch 21/30\n",
      "16/16 [==============================] - 3s 199ms/step - loss: 2.5064 - accuracy: 0.9365 - val_loss: 34.2447 - val_accuracy: 0.5040\n",
      "Epoch 22/30\n",
      "16/16 [==============================] - 3s 196ms/step - loss: 0.2981 - accuracy: 0.9790 - val_loss: 34.0524 - val_accuracy: 0.5280\n",
      "Epoch 23/30\n",
      "16/16 [==============================] - 3s 201ms/step - loss: 0.0121 - accuracy: 0.9975 - val_loss: 35.6167 - val_accuracy: 0.5420\n",
      "Epoch 24/30\n",
      "16/16 [==============================] - 3s 203ms/step - loss: 2.5284 - accuracy: 0.9355 - val_loss: 42.2587 - val_accuracy: 0.4580\n",
      "Epoch 25/30\n",
      "16/16 [==============================] - 3s 202ms/step - loss: 0.2417 - accuracy: 0.9740 - val_loss: 37.4142 - val_accuracy: 0.5460\n",
      "Epoch 26/30\n",
      "16/16 [==============================] - 3s 198ms/step - loss: 1.0610 - accuracy: 0.9620 - val_loss: 41.0452 - val_accuracy: 0.3640\n",
      "Epoch 27/30\n",
      "16/16 [==============================] - 3s 210ms/step - loss: 0.3124 - accuracy: 0.9740 - val_loss: 38.6954 - val_accuracy: 0.5360\n",
      "Epoch 28/30\n",
      "16/16 [==============================] - 3s 199ms/step - loss: 0.1051 - accuracy: 0.9900 - val_loss: 42.0227 - val_accuracy: 0.5140\n",
      "Epoch 29/30\n",
      "16/16 [==============================] - 3s 203ms/step - loss: 1.5839 - accuracy: 0.9315 - val_loss: 46.3826 - val_accuracy: 0.5300\n",
      "Epoch 30/30\n",
      "16/16 [==============================] - 3s 206ms/step - loss: 0.0770 - accuracy: 0.9965 - val_loss: 43.4806 - val_accuracy: 0.5380\n"
     ]
    }
   ],
   "source": [
    "history = model.fit(X_train,y_train_encoding\n",
    "          , epochs=30, batch_size=128, validation_split=0.2)"
   ]
  },
  {
   "cell_type": "code",
   "execution_count": 67,
   "metadata": {},
   "outputs": [
    {
     "data": {
      "image/png": "[encoded data removed]",
      "text/plain": [
       "<Figure size 432x288 with 2 Axes>"
      ]
     },
     "metadata": {
      "needs_background": "light"
     },
     "output_type": "display_data"
    }
   ],
   "source": [
    "import matplotlib.pyplot as plt\n",
    "plt.subplot(1,2,1)\n",
    "plt.plot(history.history['loss'])\n",
    "plt.plot(history.history['val_loss'])\n",
    "plt.subplot(1,2,2)\n",
    "plt.plot(history.history['accuracy'])\n",
    "plt.plot(history.history['val_accuracy'])\n",
    "plt.show()"
   ]
  },
  {
   "cell_type": "code",
   "execution_count": 68,
   "metadata": {},
   "outputs": [],
   "source": [
    "y_pred = model.predict(X_test)"
   ]
  },
  {
   "cell_type": "code",
   "execution_count": 70,
   "metadata": {},
   "outputs": [
    {
     "data": {
      "text/plain": [
       "(61,)"
      ]
     },
     "execution_count": 70,
     "metadata": {},
     "output_type": "execute_result"
    }
   ],
   "source": [
    "y_pred[0].shape # 각 항목의 길이"
   ]
  },
  {
   "cell_type": "code",
   "execution_count": 71,
   "metadata": {},
   "outputs": [
    {
     "data": {
      "text/plain": [
       "1.0"
      ]
     },
     "execution_count": 71,
     "metadata": {},
     "output_type": "execute_result"
    }
   ],
   "source": [
    "import numpy as np\n",
    "np.sum(y_pred[0])"
   ]
  },
  {
   "cell_type": "code",
   "execution_count": 72,
   "metadata": {},
   "outputs": [
    {
     "data": {
      "text/plain": [
       "40"
      ]
     },
     "execution_count": 72,
     "metadata": {},
     "output_type": "execute_result"
    }
   ],
   "source": [
    "np.argmax(y_pred[0])"
   ]
  },
  {
   "cell_type": "code",
   "execution_count": 75,
   "metadata": {},
   "outputs": [
    {
     "data": {
      "text/plain": [
       "array([[0.0000000e+00, 0.0000000e+00, 0.0000000e+00, ..., 0.0000000e+00,\n",
       "        0.0000000e+00, 0.0000000e+00],\n",
       "       [0.0000000e+00, 0.0000000e+00, 0.0000000e+00, ..., 0.0000000e+00,\n",
       "        0.0000000e+00, 0.0000000e+00],\n",
       "       [1.4475020e-10, 0.0000000e+00, 0.0000000e+00, ..., 1.1684412e-18,\n",
       "        5.6029339e-32, 1.6960847e-07],\n",
       "       ...,\n",
       "       [0.0000000e+00, 0.0000000e+00, 0.0000000e+00, ..., 0.0000000e+00,\n",
       "        0.0000000e+00, 0.0000000e+00],\n",
       "       [0.0000000e+00, 0.0000000e+00, 0.0000000e+00, ..., 0.0000000e+00,\n",
       "        0.0000000e+00, 0.0000000e+00],\n",
       "       [0.0000000e+00, 0.0000000e+00, 3.1936262e-35, ..., 0.0000000e+00,\n",
       "        0.0000000e+00, 0.0000000e+00]], dtype=float32)"
      ]
     },
     "execution_count": 75,
     "metadata": {},
     "output_type": "execute_result"
    }
   ],
   "source": [
    "y_pred"
   ]
  },
  {
   "cell_type": "code",
   "execution_count": 78,
   "metadata": {
    "scrolled": true
   },
   "outputs": [
    {
     "data": {
      "text/plain": [
       "array([[0., 0., 0., ..., 0., 0., 0.],\n",
       "       [0., 0., 0., ..., 0., 0., 0.],\n",
       "       [0., 0., 0., ..., 0., 0., 0.],\n",
       "       ...,\n",
       "       [0., 0., 0., ..., 0., 0., 0.],\n",
       "       [0., 0., 0., ..., 0., 0., 0.],\n",
       "       [0., 0., 1., ..., 0., 0., 0.]], dtype=float32)"
      ]
     },
     "execution_count": 78,
     "metadata": {},
     "output_type": "execute_result"
    }
   ],
   "source": [
    "y_test_encoding"
   ]
  },
  {
   "cell_type": "code",
   "execution_count": 77,
   "metadata": {},
   "outputs": [
    {
     "name": "stdout",
     "output_type": "stream",
     "text": [
      "테스트 세트의 정확도: 0.64\n"
     ]
    }
   ],
   "source": [
    "print(\"테스트 세트의 정확도: {:.2f}\".format(np.mean(y_pred == y_test_encoding)))"
   ]
  },
  {
   "cell_type": "code",
   "execution_count": 82,
   "metadata": {},
   "outputs": [
    {
     "data": {
      "text/plain": [
       "TensorShape([782, 600, 6])"
      ]
     },
     "execution_count": 82,
     "metadata": {},
     "output_type": "execute_result"
    }
   ],
   "source": [
    "test_X=tf.reshape(np.array(test.iloc[:,2:]),[-1, 600, 6])\n",
    "test_X.shape"
   ]
  },
  {
   "cell_type": "code",
   "execution_count": 83,
   "metadata": {},
   "outputs": [],
   "source": [
    "prediction=model.predict(test_X)"
   ]
  },
  {
   "cell_type": "code",
   "execution_count": 84,
   "metadata": {},
   "outputs": [
    {
     "data": {
      "text/plain": [
       "(782, 61)"
      ]
     },
     "execution_count": 84,
     "metadata": {},
     "output_type": "execute_result"
    }
   ],
   "source": [
    "prediction.shape"
   ]
  },
  {
   "cell_type": "code",
   "execution_count": 85,
   "metadata": {},
   "outputs": [],
   "source": [
    "submission.iloc[:,1:]=prediction"
   ]
  },
  {
   "cell_type": "code",
   "execution_count": 86,
   "metadata": {},
   "outputs": [
    {
     "data": {
      "text/html": [
       "<div>\n",
       "<style scoped>\n",
       "    .dataframe tbody tr th:only-of-type {\n",
       "        vertical-align: middle;\n",
       "    }\n",
       "\n",
       "    .dataframe tbody tr th {\n",
       "        vertical-align: top;\n",
       "    }\n",
       "\n",
       "    .dataframe thead th {\n",
       "        text-align: right;\n",
       "    }\n",
       "</style>\n",
       "<table border=\"1\" class=\"dataframe\">\n",
       "  <thead>\n",
       "    <tr style=\"text-align: right;\">\n",
       "      <th></th>\n",
       "      <th>id</th>\n",
       "      <th>0</th>\n",
       "      <th>1</th>\n",
       "      <th>2</th>\n",
       "      <th>3</th>\n",
       "      <th>4</th>\n",
       "      <th>5</th>\n",
       "      <th>6</th>\n",
       "      <th>7</th>\n",
       "      <th>8</th>\n",
       "      <th>...</th>\n",
       "      <th>51</th>\n",
       "      <th>52</th>\n",
       "      <th>53</th>\n",
       "      <th>54</th>\n",
       "      <th>55</th>\n",
       "      <th>56</th>\n",
       "      <th>57</th>\n",
       "      <th>58</th>\n",
       "      <th>59</th>\n",
       "      <th>60</th>\n",
       "    </tr>\n",
       "  </thead>\n",
       "  <tbody>\n",
       "    <tr>\n",
       "      <th>0</th>\n",
       "      <td>3125</td>\n",
       "      <td>2.307985e-11</td>\n",
       "      <td>6.876293e-27</td>\n",
       "      <td>2.725003e-28</td>\n",
       "      <td>2.277052e-12</td>\n",
       "      <td>4.695529e-18</td>\n",
       "      <td>8.595889e-22</td>\n",
       "      <td>0.000000e+00</td>\n",
       "      <td>7.764758e-30</td>\n",
       "      <td>4.666689e-26</td>\n",
       "      <td>...</td>\n",
       "      <td>2.211495e-05</td>\n",
       "      <td>4.322779e-22</td>\n",
       "      <td>9.453852e-15</td>\n",
       "      <td>1.466340e-25</td>\n",
       "      <td>7.784372e-20</td>\n",
       "      <td>5.407317e-36</td>\n",
       "      <td>4.809331e-06</td>\n",
       "      <td>1.743600e-05</td>\n",
       "      <td>1.406010e-30</td>\n",
       "      <td>2.217718e-15</td>\n",
       "    </tr>\n",
       "    <tr>\n",
       "      <th>1</th>\n",
       "      <td>3126</td>\n",
       "      <td>0.000000e+00</td>\n",
       "      <td>0.000000e+00</td>\n",
       "      <td>0.000000e+00</td>\n",
       "      <td>0.000000e+00</td>\n",
       "      <td>0.000000e+00</td>\n",
       "      <td>0.000000e+00</td>\n",
       "      <td>0.000000e+00</td>\n",
       "      <td>0.000000e+00</td>\n",
       "      <td>0.000000e+00</td>\n",
       "      <td>...</td>\n",
       "      <td>2.140302e-25</td>\n",
       "      <td>0.000000e+00</td>\n",
       "      <td>0.000000e+00</td>\n",
       "      <td>1.245234e-35</td>\n",
       "      <td>8.364057e-22</td>\n",
       "      <td>1.428937e-36</td>\n",
       "      <td>1.825730e-34</td>\n",
       "      <td>0.000000e+00</td>\n",
       "      <td>6.278619e-16</td>\n",
       "      <td>0.000000e+00</td>\n",
       "    </tr>\n",
       "    <tr>\n",
       "      <th>2</th>\n",
       "      <td>3127</td>\n",
       "      <td>6.054896e-29</td>\n",
       "      <td>1.443853e-14</td>\n",
       "      <td>0.000000e+00</td>\n",
       "      <td>4.269063e-38</td>\n",
       "      <td>4.108669e-37</td>\n",
       "      <td>5.353890e-23</td>\n",
       "      <td>4.829435e-19</td>\n",
       "      <td>4.956907e-30</td>\n",
       "      <td>1.025105e-12</td>\n",
       "      <td>...</td>\n",
       "      <td>1.198847e-22</td>\n",
       "      <td>0.000000e+00</td>\n",
       "      <td>1.298647e-24</td>\n",
       "      <td>4.084513e-28</td>\n",
       "      <td>2.877678e-26</td>\n",
       "      <td>5.105001e-29</td>\n",
       "      <td>1.756111e-35</td>\n",
       "      <td>1.672518e-36</td>\n",
       "      <td>8.994130e-24</td>\n",
       "      <td>0.000000e+00</td>\n",
       "    </tr>\n",
       "    <tr>\n",
       "      <th>3</th>\n",
       "      <td>3128</td>\n",
       "      <td>2.206286e-34</td>\n",
       "      <td>2.557948e-36</td>\n",
       "      <td>3.906128e-18</td>\n",
       "      <td>4.598045e-36</td>\n",
       "      <td>2.076792e-20</td>\n",
       "      <td>1.325442e-37</td>\n",
       "      <td>0.000000e+00</td>\n",
       "      <td>1.942060e-30</td>\n",
       "      <td>4.742436e-33</td>\n",
       "      <td>...</td>\n",
       "      <td>1.240766e-28</td>\n",
       "      <td>0.000000e+00</td>\n",
       "      <td>3.924147e-30</td>\n",
       "      <td>1.981822e-38</td>\n",
       "      <td>9.497164e-19</td>\n",
       "      <td>8.540852e-26</td>\n",
       "      <td>5.005519e-16</td>\n",
       "      <td>3.997669e-37</td>\n",
       "      <td>1.023634e-18</td>\n",
       "      <td>0.000000e+00</td>\n",
       "    </tr>\n",
       "    <tr>\n",
       "      <th>4</th>\n",
       "      <td>3129</td>\n",
       "      <td>0.000000e+00</td>\n",
       "      <td>0.000000e+00</td>\n",
       "      <td>0.000000e+00</td>\n",
       "      <td>0.000000e+00</td>\n",
       "      <td>0.000000e+00</td>\n",
       "      <td>0.000000e+00</td>\n",
       "      <td>0.000000e+00</td>\n",
       "      <td>0.000000e+00</td>\n",
       "      <td>0.000000e+00</td>\n",
       "      <td>...</td>\n",
       "      <td>0.000000e+00</td>\n",
       "      <td>0.000000e+00</td>\n",
       "      <td>0.000000e+00</td>\n",
       "      <td>0.000000e+00</td>\n",
       "      <td>0.000000e+00</td>\n",
       "      <td>0.000000e+00</td>\n",
       "      <td>0.000000e+00</td>\n",
       "      <td>0.000000e+00</td>\n",
       "      <td>0.000000e+00</td>\n",
       "      <td>3.754169e-25</td>\n",
       "    </tr>\n",
       "    <tr>\n",
       "      <th>...</th>\n",
       "      <td>...</td>\n",
       "      <td>...</td>\n",
       "      <td>...</td>\n",
       "      <td>...</td>\n",
       "      <td>...</td>\n",
       "      <td>...</td>\n",
       "      <td>...</td>\n",
       "      <td>...</td>\n",
       "      <td>...</td>\n",
       "      <td>...</td>\n",
       "      <td>...</td>\n",
       "      <td>...</td>\n",
       "      <td>...</td>\n",
       "      <td>...</td>\n",
       "      <td>...</td>\n",
       "      <td>...</td>\n",
       "      <td>...</td>\n",
       "      <td>...</td>\n",
       "      <td>...</td>\n",
       "      <td>...</td>\n",
       "      <td>...</td>\n",
       "    </tr>\n",
       "    <tr>\n",
       "      <th>777</th>\n",
       "      <td>3902</td>\n",
       "      <td>0.000000e+00</td>\n",
       "      <td>0.000000e+00</td>\n",
       "      <td>0.000000e+00</td>\n",
       "      <td>0.000000e+00</td>\n",
       "      <td>0.000000e+00</td>\n",
       "      <td>0.000000e+00</td>\n",
       "      <td>0.000000e+00</td>\n",
       "      <td>0.000000e+00</td>\n",
       "      <td>0.000000e+00</td>\n",
       "      <td>...</td>\n",
       "      <td>1.945565e-26</td>\n",
       "      <td>0.000000e+00</td>\n",
       "      <td>0.000000e+00</td>\n",
       "      <td>0.000000e+00</td>\n",
       "      <td>0.000000e+00</td>\n",
       "      <td>0.000000e+00</td>\n",
       "      <td>0.000000e+00</td>\n",
       "      <td>0.000000e+00</td>\n",
       "      <td>0.000000e+00</td>\n",
       "      <td>0.000000e+00</td>\n",
       "    </tr>\n",
       "    <tr>\n",
       "      <th>778</th>\n",
       "      <td>3903</td>\n",
       "      <td>0.000000e+00</td>\n",
       "      <td>1.367279e-33</td>\n",
       "      <td>0.000000e+00</td>\n",
       "      <td>0.000000e+00</td>\n",
       "      <td>0.000000e+00</td>\n",
       "      <td>0.000000e+00</td>\n",
       "      <td>0.000000e+00</td>\n",
       "      <td>0.000000e+00</td>\n",
       "      <td>0.000000e+00</td>\n",
       "      <td>...</td>\n",
       "      <td>0.000000e+00</td>\n",
       "      <td>0.000000e+00</td>\n",
       "      <td>0.000000e+00</td>\n",
       "      <td>0.000000e+00</td>\n",
       "      <td>0.000000e+00</td>\n",
       "      <td>0.000000e+00</td>\n",
       "      <td>0.000000e+00</td>\n",
       "      <td>0.000000e+00</td>\n",
       "      <td>0.000000e+00</td>\n",
       "      <td>0.000000e+00</td>\n",
       "    </tr>\n",
       "    <tr>\n",
       "      <th>779</th>\n",
       "      <td>3904</td>\n",
       "      <td>0.000000e+00</td>\n",
       "      <td>0.000000e+00</td>\n",
       "      <td>0.000000e+00</td>\n",
       "      <td>0.000000e+00</td>\n",
       "      <td>0.000000e+00</td>\n",
       "      <td>0.000000e+00</td>\n",
       "      <td>0.000000e+00</td>\n",
       "      <td>0.000000e+00</td>\n",
       "      <td>0.000000e+00</td>\n",
       "      <td>...</td>\n",
       "      <td>0.000000e+00</td>\n",
       "      <td>0.000000e+00</td>\n",
       "      <td>0.000000e+00</td>\n",
       "      <td>0.000000e+00</td>\n",
       "      <td>7.809565e-34</td>\n",
       "      <td>0.000000e+00</td>\n",
       "      <td>0.000000e+00</td>\n",
       "      <td>0.000000e+00</td>\n",
       "      <td>0.000000e+00</td>\n",
       "      <td>0.000000e+00</td>\n",
       "    </tr>\n",
       "    <tr>\n",
       "      <th>780</th>\n",
       "      <td>3905</td>\n",
       "      <td>0.000000e+00</td>\n",
       "      <td>1.655682e-27</td>\n",
       "      <td>0.000000e+00</td>\n",
       "      <td>0.000000e+00</td>\n",
       "      <td>5.207890e-35</td>\n",
       "      <td>5.597661e-35</td>\n",
       "      <td>2.576311e-29</td>\n",
       "      <td>7.180730e-16</td>\n",
       "      <td>9.361516e-37</td>\n",
       "      <td>...</td>\n",
       "      <td>0.000000e+00</td>\n",
       "      <td>0.000000e+00</td>\n",
       "      <td>9.537996e-23</td>\n",
       "      <td>1.076862e-22</td>\n",
       "      <td>6.328257e-29</td>\n",
       "      <td>0.000000e+00</td>\n",
       "      <td>0.000000e+00</td>\n",
       "      <td>0.000000e+00</td>\n",
       "      <td>5.097853e-14</td>\n",
       "      <td>0.000000e+00</td>\n",
       "    </tr>\n",
       "    <tr>\n",
       "      <th>781</th>\n",
       "      <td>3906</td>\n",
       "      <td>1.943961e-35</td>\n",
       "      <td>0.000000e+00</td>\n",
       "      <td>0.000000e+00</td>\n",
       "      <td>0.000000e+00</td>\n",
       "      <td>1.255371e-32</td>\n",
       "      <td>0.000000e+00</td>\n",
       "      <td>0.000000e+00</td>\n",
       "      <td>0.000000e+00</td>\n",
       "      <td>0.000000e+00</td>\n",
       "      <td>...</td>\n",
       "      <td>0.000000e+00</td>\n",
       "      <td>0.000000e+00</td>\n",
       "      <td>0.000000e+00</td>\n",
       "      <td>0.000000e+00</td>\n",
       "      <td>0.000000e+00</td>\n",
       "      <td>0.000000e+00</td>\n",
       "      <td>0.000000e+00</td>\n",
       "      <td>7.083277e-38</td>\n",
       "      <td>0.000000e+00</td>\n",
       "      <td>0.000000e+00</td>\n",
       "    </tr>\n",
       "  </tbody>\n",
       "</table>\n",
       "<p>782 rows × 62 columns</p>\n",
       "</div>"
      ],
      "text/plain": [
       "       id             0             1             2             3  \\\n",
       "0    3125  2.307985e-11  6.876293e-27  2.725003e-28  2.277052e-12   \n",
       "1    3126  0.000000e+00  0.000000e+00  0.000000e+00  0.000000e+00   \n",
       "2    3127  6.054896e-29  1.443853e-14  0.000000e+00  4.269063e-38   \n",
       "3    3128  2.206286e-34  2.557948e-36  3.906128e-18  4.598045e-36   \n",
       "4    3129  0.000000e+00  0.000000e+00  0.000000e+00  0.000000e+00   \n",
       "..    ...           ...           ...           ...           ...   \n",
       "777  3902  0.000000e+00  0.000000e+00  0.000000e+00  0.000000e+00   \n",
       "778  3903  0.000000e+00  1.367279e-33  0.000000e+00  0.000000e+00   \n",
       "779  3904  0.000000e+00  0.000000e+00  0.000000e+00  0.000000e+00   \n",
       "780  3905  0.000000e+00  1.655682e-27  0.000000e+00  0.000000e+00   \n",
       "781  3906  1.943961e-35  0.000000e+00  0.000000e+00  0.000000e+00   \n",
       "\n",
       "                4             5             6             7             8  \\\n",
       "0    4.695529e-18  8.595889e-22  0.000000e+00  7.764758e-30  4.666689e-26   \n",
       "1    0.000000e+00  0.000000e+00  0.000000e+00  0.000000e+00  0.000000e+00   \n",
       "2    4.108669e-37  5.353890e-23  4.829435e-19  4.956907e-30  1.025105e-12   \n",
       "3    2.076792e-20  1.325442e-37  0.000000e+00  1.942060e-30  4.742436e-33   \n",
       "4    0.000000e+00  0.000000e+00  0.000000e+00  0.000000e+00  0.000000e+00   \n",
       "..            ...           ...           ...           ...           ...   \n",
       "777  0.000000e+00  0.000000e+00  0.000000e+00  0.000000e+00  0.000000e+00   \n",
       "778  0.000000e+00  0.000000e+00  0.000000e+00  0.000000e+00  0.000000e+00   \n",
       "779  0.000000e+00  0.000000e+00  0.000000e+00  0.000000e+00  0.000000e+00   \n",
       "780  5.207890e-35  5.597661e-35  2.576311e-29  7.180730e-16  9.361516e-37   \n",
       "781  1.255371e-32  0.000000e+00  0.000000e+00  0.000000e+00  0.000000e+00   \n",
       "\n",
       "     ...            51            52            53            54  \\\n",
       "0    ...  2.211495e-05  4.322779e-22  9.453852e-15  1.466340e-25   \n",
       "1    ...  2.140302e-25  0.000000e+00  0.000000e+00  1.245234e-35   \n",
       "2    ...  1.198847e-22  0.000000e+00  1.298647e-24  4.084513e-28   \n",
       "3    ...  1.240766e-28  0.000000e+00  3.924147e-30  1.981822e-38   \n",
       "4    ...  0.000000e+00  0.000000e+00  0.000000e+00  0.000000e+00   \n",
       "..   ...           ...           ...           ...           ...   \n",
       "777  ...  1.945565e-26  0.000000e+00  0.000000e+00  0.000000e+00   \n",
       "778  ...  0.000000e+00  0.000000e+00  0.000000e+00  0.000000e+00   \n",
       "779  ...  0.000000e+00  0.000000e+00  0.000000e+00  0.000000e+00   \n",
       "780  ...  0.000000e+00  0.000000e+00  9.537996e-23  1.076862e-22   \n",
       "781  ...  0.000000e+00  0.000000e+00  0.000000e+00  0.000000e+00   \n",
       "\n",
       "               55            56            57            58            59  \\\n",
       "0    7.784372e-20  5.407317e-36  4.809331e-06  1.743600e-05  1.406010e-30   \n",
       "1    8.364057e-22  1.428937e-36  1.825730e-34  0.000000e+00  6.278619e-16   \n",
       "2    2.877678e-26  5.105001e-29  1.756111e-35  1.672518e-36  8.994130e-24   \n",
       "3    9.497164e-19  8.540852e-26  5.005519e-16  3.997669e-37  1.023634e-18   \n",
       "4    0.000000e+00  0.000000e+00  0.000000e+00  0.000000e+00  0.000000e+00   \n",
       "..            ...           ...           ...           ...           ...   \n",
       "777  0.000000e+00  0.000000e+00  0.000000e+00  0.000000e+00  0.000000e+00   \n",
       "778  0.000000e+00  0.000000e+00  0.000000e+00  0.000000e+00  0.000000e+00   \n",
       "779  7.809565e-34  0.000000e+00  0.000000e+00  0.000000e+00  0.000000e+00   \n",
       "780  6.328257e-29  0.000000e+00  0.000000e+00  0.000000e+00  5.097853e-14   \n",
       "781  0.000000e+00  0.000000e+00  0.000000e+00  7.083277e-38  0.000000e+00   \n",
       "\n",
       "               60  \n",
       "0    2.217718e-15  \n",
       "1    0.000000e+00  \n",
       "2    0.000000e+00  \n",
       "3    0.000000e+00  \n",
       "4    3.754169e-25  \n",
       "..            ...  \n",
       "777  0.000000e+00  \n",
       "778  0.000000e+00  \n",
       "779  0.000000e+00  \n",
       "780  0.000000e+00  \n",
       "781  0.000000e+00  \n",
       "\n",
       "[782 rows x 62 columns]"
      ]
     },
     "execution_count": 86,
     "metadata": {},
     "output_type": "execute_result"
    }
   ],
   "source": [
    "submission"
   ]
  },
  {
   "cell_type": "code",
   "execution_count": 87,
   "metadata": {},
   "outputs": [],
   "source": [
    "submission.to_csv('submission.csv', index=False)"
   ]
  },
  {
   "attachments": {
    "image.png": {
     "image/png": "[encoded data removed]"
    }
   },
   "cell_type": "markdown",
   "metadata": {},
   "source": [
    "![image.png](attachment:image.png)"
   ]
  },
  {
   "cell_type": "markdown",
   "metadata": {},
   "source": [
    "# 4. 나눈 ANN-3 (y_pred랑 정확도가 너무 낮음)"
   ]
  },
  {
   "cell_type": "code",
   "execution_count": 97,
   "metadata": {},
   "outputs": [],
   "source": [
    "X_train = train[(train['id']>= 0) & (train['id']<=2499)]\n",
    "X_test = train[train['id'] >= 2500]\n",
    "X_train = tf.reshape(np.array(X_train.iloc[:,2:]),[-1, 600, 6])\n",
    "X_test = tf.reshape(np.array(X_test.iloc[:,2:]),[-1, 600, 6])\n",
    "\n",
    "from tensorflow.keras.utils import to_categorical\n",
    "y =  train_labels['label']\n",
    "slice_arr = slice(0,2500,1)\n",
    "y_train = y[slice_arr]\n",
    "\n",
    "slice_arr2 = slice(2500,3125,1)\n",
    "y_test = y[slice_arr2]\n",
    "\n",
    "y_train_encoding = tf.keras.utils.to_categorical(y_train)\n",
    "y_test_encoding = tf.keras.utils.to_categorical(y_test)"
   ]
  },
  {
   "cell_type": "code",
   "execution_count": 98,
   "metadata": {},
   "outputs": [],
   "source": [
    "from keras.models import Sequential\n",
    "from keras.layers import Dense, LSTM, Flatten\n",
    "\n",
    "#은닉층 개수 바꿔보기\n",
    "model = Sequential()\n",
    "model.add(Dense(16, input_shape =(600,6)))\n",
    "model.add(Dense(30, activation='relu'))\n",
    "model.add(Flatten())\n",
    "model.add(Dense(61, activation='softmax'))\n",
    "\n",
    "model.compile(optimizer='rmsprop', loss='categorical_crossentropy', metrics=['accuracy'])"
   ]
  },
  {
   "cell_type": "code",
   "execution_count": 99,
   "metadata": {},
   "outputs": [
    {
     "name": "stdout",
     "output_type": "stream",
     "text": [
      "Epoch 1/30\n",
      "16/16 [==============================] - 3s 82ms/step - loss: 208.9808 - accuracy: 0.1759 - val_loss: 219.2012 - val_accuracy: 0.0100\n",
      "Epoch 2/30\n",
      "16/16 [==============================] - 1s 56ms/step - loss: 104.8896 - accuracy: 0.2663 - val_loss: 81.8801 - val_accuracy: 0.4640\n",
      "Epoch 3/30\n",
      "16/16 [==============================] - 1s 57ms/step - loss: 33.2033 - accuracy: 0.4438 - val_loss: 58.5635 - val_accuracy: 0.4780\n",
      "Epoch 4/30\n",
      "16/16 [==============================] - 1s 57ms/step - loss: 14.3142 - accuracy: 0.5928 - val_loss: 51.3598 - val_accuracy: 0.3840\n",
      "Epoch 5/30\n",
      "16/16 [==============================] - 1s 57ms/step - loss: 9.3945 - accuracy: 0.6318 - val_loss: 59.3161 - val_accuracy: 0.1220\n",
      "Epoch 6/30\n",
      "16/16 [==============================] - 1s 57ms/step - loss: 11.4128 - accuracy: 0.5585 - val_loss: 34.6869 - val_accuracy: 0.3500\n",
      "Epoch 7/30\n",
      "16/16 [==============================] - 1s 59ms/step - loss: 3.9837 - accuracy: 0.7668 - val_loss: 35.5683 - val_accuracy: 0.2540\n",
      "Epoch 8/30\n",
      "16/16 [==============================] - 1s 62ms/step - loss: 3.0892 - accuracy: 0.7798 - val_loss: 50.4557 - val_accuracy: 0.5120\n",
      "Epoch 9/30\n",
      "16/16 [==============================] - 1s 58ms/step - loss: 2.9396 - accuracy: 0.8096 - val_loss: 38.3700 - val_accuracy: 0.5220\n",
      "Epoch 10/30\n",
      "16/16 [==============================] - 1s 58ms/step - loss: 5.8971 - accuracy: 0.7159 - val_loss: 27.5419 - val_accuracy: 0.4880\n",
      "Epoch 11/30\n",
      "16/16 [==============================] - 1s 58ms/step - loss: 0.5176 - accuracy: 0.9372 - val_loss: 47.6580 - val_accuracy: 0.5160\n",
      "Epoch 12/30\n",
      "16/16 [==============================] - 1s 57ms/step - loss: 2.9538 - accuracy: 0.8145 - val_loss: 25.6224 - val_accuracy: 0.4380\n",
      "Epoch 13/30\n",
      "16/16 [==============================] - 1s 56ms/step - loss: 1.4194 - accuracy: 0.9028 - val_loss: 27.4155 - val_accuracy: 0.5280\n",
      "Epoch 14/30\n",
      "16/16 [==============================] - 1s 56ms/step - loss: 0.4555 - accuracy: 0.9430 - val_loss: 23.5766 - val_accuracy: 0.4960\n",
      "Epoch 15/30\n",
      "16/16 [==============================] - 1s 57ms/step - loss: 0.6852 - accuracy: 0.9304 - val_loss: 23.9029 - val_accuracy: 0.2780\n",
      "Epoch 16/30\n",
      "16/16 [==============================] - 1s 56ms/step - loss: 1.3530 - accuracy: 0.8958 - val_loss: 22.8463 - val_accuracy: 0.5200\n",
      "Epoch 17/30\n",
      "16/16 [==============================] - 1s 58ms/step - loss: 0.3019 - accuracy: 0.9659 - val_loss: 22.4604 - val_accuracy: 0.3180\n",
      "Epoch 18/30\n",
      "16/16 [==============================] - 1s 57ms/step - loss: 1.6793 - accuracy: 0.8384 - val_loss: 20.8258 - val_accuracy: 0.5060\n",
      "Epoch 19/30\n",
      "16/16 [==============================] - 1s 58ms/step - loss: 0.1907 - accuracy: 0.9607 - val_loss: 24.7648 - val_accuracy: 0.5360\n",
      "Epoch 20/30\n",
      "16/16 [==============================] - 1s 58ms/step - loss: 0.3222 - accuracy: 0.9673 - val_loss: 40.7837 - val_accuracy: 0.5300\n",
      "Epoch 21/30\n",
      "16/16 [==============================] - 1s 57ms/step - loss: 1.5911 - accuracy: 0.8603 - val_loss: 21.3936 - val_accuracy: 0.5320\n",
      "Epoch 22/30\n",
      "16/16 [==============================] - 1s 57ms/step - loss: 0.1196 - accuracy: 0.9780 - val_loss: 21.5089 - val_accuracy: 0.3580\n",
      "Epoch 23/30\n",
      "16/16 [==============================] - 1s 56ms/step - loss: 0.7036 - accuracy: 0.9010 - val_loss: 20.4942 - val_accuracy: 0.5140\n",
      "Epoch 24/30\n",
      "16/16 [==============================] - 1s 56ms/step - loss: 0.1071 - accuracy: 0.9882 - val_loss: 19.9295 - val_accuracy: 0.3580\n",
      "Epoch 25/30\n",
      "16/16 [==============================] - 1s 58ms/step - loss: 1.6350 - accuracy: 0.8657 - val_loss: 20.5384 - val_accuracy: 0.4900\n",
      "Epoch 26/30\n",
      "16/16 [==============================] - 1s 57ms/step - loss: 0.0398 - accuracy: 0.9918 - val_loss: 21.7036 - val_accuracy: 0.5300\n",
      "Epoch 27/30\n",
      "16/16 [==============================] - 1s 55ms/step - loss: 0.3154 - accuracy: 0.9718 - val_loss: 18.7022 - val_accuracy: 0.4560\n",
      "Epoch 28/30\n",
      "16/16 [==============================] - 1s 57ms/step - loss: 0.2427 - accuracy: 0.9588 - val_loss: 22.0419 - val_accuracy: 0.5420\n",
      "Epoch 29/30\n",
      "16/16 [==============================] - 1s 58ms/step - loss: 0.0278 - accuracy: 0.9919 - val_loss: 21.4459 - val_accuracy: 0.5360\n",
      "Epoch 30/30\n",
      "16/16 [==============================] - 1s 57ms/step - loss: 0.0513 - accuracy: 0.9882 - val_loss: 23.2143 - val_accuracy: 0.5480\n"
     ]
    }
   ],
   "source": [
    "history = model.fit(X_train,y_train_encoding\n",
    "          , epochs=30, batch_size=128, validation_split=0.2)"
   ]
  },
  {
   "cell_type": "code",
   "execution_count": 100,
   "metadata": {},
   "outputs": [],
   "source": [
    "y_pred = model.predict(X_test)"
   ]
  },
  {
   "cell_type": "code",
   "execution_count": 101,
   "metadata": {},
   "outputs": [
    {
     "name": "stdout",
     "output_type": "stream",
     "text": [
      "테스트 세트의 정확도: 0.29\n"
     ]
    }
   ],
   "source": [
    "print(\"테스트 세트의 정확도: {:.2f}\".format(np.mean(y_pred == y_test_encoding)))"
   ]
  },
  {
   "cell_type": "markdown",
   "metadata": {},
   "source": [
    "# 5. 나눈 ANN-4 (정확도 너무 낮아요!)"
   ]
  },
  {
   "cell_type": "code",
   "execution_count": 102,
   "metadata": {},
   "outputs": [],
   "source": [
    "X_train = train[(train['id']>= 0) & (train['id']<=2499)]\n",
    "X_test = train[train['id'] >= 2500]\n",
    "X_train = tf.reshape(np.array(X_train.iloc[:,2:]),[-1, 600, 6])\n",
    "X_test = tf.reshape(np.array(X_test.iloc[:,2:]),[-1, 600, 6])\n",
    "\n",
    "from tensorflow.keras.utils import to_categorical\n",
    "y =  train_labels['label']\n",
    "slice_arr = slice(0,2500,1)\n",
    "y_train = y[slice_arr]\n",
    "\n",
    "slice_arr2 = slice(2500,3125,1)\n",
    "y_test = y[slice_arr2]\n",
    "\n",
    "y_train_encoding = tf.keras.utils.to_categorical(y_train)\n",
    "y_test_encoding = tf.keras.utils.to_categorical(y_test)"
   ]
  },
  {
   "cell_type": "code",
   "execution_count": 103,
   "metadata": {},
   "outputs": [],
   "source": [
    "from keras.models import Sequential\n",
    "from keras.layers import Dense, LSTM, Flatten\n",
    "\n",
    "#은닉층 개수 바꿔보기\n",
    "model = Sequential()\n",
    "model.add(Dense(32, input_shape =(600,6)))\n",
    "model.add(Dense(16, activation='relu'))\n",
    "model.add(Dense(8, activation='relu'))\n",
    "model.add(Flatten())\n",
    "model.add(Dense(61, activation='softmax'))\n",
    "\n",
    "model.compile(optimizer='rmsprop', loss='categorical_crossentropy', metrics=['accuracy'])"
   ]
  },
  {
   "cell_type": "code",
   "execution_count": 104,
   "metadata": {},
   "outputs": [
    {
     "name": "stdout",
     "output_type": "stream",
     "text": [
      "Epoch 1/30\n",
      "16/16 [==============================] - 2s 65ms/step - loss: 63.8300 - accuracy: 0.1501 - val_loss: 23.9136 - val_accuracy: 0.2340\n",
      "Epoch 2/30\n",
      "16/16 [==============================] - 1s 43ms/step - loss: 13.6531 - accuracy: 0.3018 - val_loss: 12.4933 - val_accuracy: 0.3860\n",
      "Epoch 3/30\n",
      "16/16 [==============================] - 1s 40ms/step - loss: 4.6562 - accuracy: 0.4376 - val_loss: 9.6747 - val_accuracy: 0.2800\n",
      "Epoch 4/30\n",
      "16/16 [==============================] - 1s 41ms/step - loss: 2.8122 - accuracy: 0.5304 - val_loss: 7.5974 - val_accuracy: 0.3100\n",
      "Epoch 5/30\n",
      "16/16 [==============================] - 1s 41ms/step - loss: 1.6790 - accuracy: 0.6132 - val_loss: 7.1358 - val_accuracy: 0.4940\n",
      "Epoch 6/30\n",
      "16/16 [==============================] - 1s 41ms/step - loss: 0.8354 - accuracy: 0.7844 - val_loss: 6.9293 - val_accuracy: 0.3800\n",
      "Epoch 7/30\n",
      "16/16 [==============================] - 1s 41ms/step - loss: 0.6980 - accuracy: 0.8177 - val_loss: 7.2589 - val_accuracy: 0.4640\n",
      "Epoch 8/30\n",
      "16/16 [==============================] - 1s 41ms/step - loss: 0.3893 - accuracy: 0.8966 - val_loss: 6.7417 - val_accuracy: 0.4400\n",
      "Epoch 9/30\n",
      "16/16 [==============================] - 1s 41ms/step - loss: 0.2575 - accuracy: 0.9424 - val_loss: 9.0404 - val_accuracy: 0.5260\n",
      "Epoch 10/30\n",
      "16/16 [==============================] - 1s 41ms/step - loss: 0.4460 - accuracy: 0.8820 - val_loss: 7.4335 - val_accuracy: 0.4960\n",
      "Epoch 11/30\n",
      "16/16 [==============================] - 1s 43ms/step - loss: 0.1430 - accuracy: 0.9628 - val_loss: 8.8682 - val_accuracy: 0.4160\n",
      "Epoch 12/30\n",
      "16/16 [==============================] - 1s 40ms/step - loss: 0.2462 - accuracy: 0.9408 - val_loss: 9.7020 - val_accuracy: 0.5080\n",
      "Epoch 13/30\n",
      "16/16 [==============================] - 1s 42ms/step - loss: 0.0757 - accuracy: 0.9819 - val_loss: 9.9431 - val_accuracy: 0.4820\n",
      "Epoch 14/30\n",
      "16/16 [==============================] - 1s 40ms/step - loss: 0.0659 - accuracy: 0.9860 - val_loss: 9.6742 - val_accuracy: 0.4460\n",
      "Epoch 15/30\n",
      "16/16 [==============================] - 1s 40ms/step - loss: 0.3784 - accuracy: 0.9238 - val_loss: 10.4754 - val_accuracy: 0.4880\n",
      "Epoch 16/30\n",
      "16/16 [==============================] - 1s 41ms/step - loss: 0.0617 - accuracy: 0.9846 - val_loss: 10.8001 - val_accuracy: 0.4860\n",
      "Epoch 17/30\n",
      "16/16 [==============================] - 1s 42ms/step - loss: 0.0426 - accuracy: 0.9878 - val_loss: 11.3872 - val_accuracy: 0.3520\n",
      "Epoch 18/30\n",
      "16/16 [==============================] - 1s 42ms/step - loss: 0.1667 - accuracy: 0.9582 - val_loss: 10.9791 - val_accuracy: 0.4900\n",
      "Epoch 19/30\n",
      "16/16 [==============================] - 1s 41ms/step - loss: 0.0460 - accuracy: 0.9883 - val_loss: 10.1797 - val_accuracy: 0.4180\n",
      "Epoch 20/30\n",
      "16/16 [==============================] - 1s 41ms/step - loss: 0.1235 - accuracy: 0.9777 - val_loss: 12.4985 - val_accuracy: 0.4980\n",
      "Epoch 21/30\n",
      "16/16 [==============================] - 1s 41ms/step - loss: 0.0245 - accuracy: 0.9939 - val_loss: 16.9125 - val_accuracy: 0.5260\n",
      "Epoch 22/30\n",
      "16/16 [==============================] - 1s 42ms/step - loss: 0.1740 - accuracy: 0.9683 - val_loss: 12.8602 - val_accuracy: 0.5140\n",
      "Epoch 23/30\n",
      "16/16 [==============================] - 1s 41ms/step - loss: 0.0194 - accuracy: 0.9949 - val_loss: 14.1599 - val_accuracy: 0.5240\n",
      "Epoch 24/30\n",
      "16/16 [==============================] - 1s 40ms/step - loss: 0.1286 - accuracy: 0.9722 - val_loss: 13.4207 - val_accuracy: 0.4840\n",
      "Epoch 25/30\n",
      "16/16 [==============================] - 1s 41ms/step - loss: 0.0156 - accuracy: 0.9970 - val_loss: 14.8264 - val_accuracy: 0.4960\n",
      "Epoch 26/30\n",
      "16/16 [==============================] - 1s 41ms/step - loss: 0.0328 - accuracy: 0.9928 - val_loss: 14.5972 - val_accuracy: 0.3880\n",
      "Epoch 27/30\n",
      "16/16 [==============================] - 1s 41ms/step - loss: 0.2578 - accuracy: 0.9502 - val_loss: 13.6182 - val_accuracy: 0.4520\n",
      "Epoch 28/30\n",
      "16/16 [==============================] - 1s 43ms/step - loss: 0.0296 - accuracy: 0.9922 - val_loss: 15.6752 - val_accuracy: 0.5040\n",
      "Epoch 29/30\n",
      "16/16 [==============================] - 1s 41ms/step - loss: 0.0264 - accuracy: 0.9937 - val_loss: 16.0087 - val_accuracy: 0.5140\n",
      "Epoch 30/30\n",
      "16/16 [==============================] - 1s 40ms/step - loss: 0.0154 - accuracy: 0.9961 - val_loss: 17.2646 - val_accuracy: 0.5060\n"
     ]
    }
   ],
   "source": [
    "history = model.fit(X_train,y_train_encoding\n",
    "          , epochs=30, batch_size=128, validation_split=0.2)"
   ]
  },
  {
   "cell_type": "code",
   "execution_count": 105,
   "metadata": {},
   "outputs": [],
   "source": [
    "y_pred = model.predict(X_test)"
   ]
  },
  {
   "cell_type": "code",
   "execution_count": 106,
   "metadata": {},
   "outputs": [
    {
     "name": "stdout",
     "output_type": "stream",
     "text": [
      "테스트 세트의 정확도: 0.13\n"
     ]
    }
   ],
   "source": [
    "print(\"테스트 세트의 정확도: {:.2f}\".format(np.mean(y_pred == y_test_encoding)))"
   ]
  },
  {
   "cell_type": "markdown",
   "metadata": {},
   "source": [
    "# 데이터 다운샘플링"
   ]
  },
  {
   "cell_type": "code",
   "execution_count": 107,
   "metadata": {},
   "outputs": [],
   "source": [
    "import pandas as pd\n",
    "from collections import Counter\n",
    "from matplotlib import pyplot\n",
    "\n",
    "def count_and_plot(y): \n",
    "    counter = Counter(y)\n",
    "    for k,v in counter.items():\n",
    "        print('Class=%d, n=%d (%.3f%%)' % (k, v, v / len(y) * 100))\n",
    "    pyplot.bar(counter.keys(), counter.values())\n",
    "    pyplot.show()"
   ]
  },
  {
   "cell_type": "code",
   "execution_count": 108,
   "metadata": {},
   "outputs": [],
   "source": [
    "data = train_labels.values"
   ]
  },
  {
   "cell_type": "code",
   "execution_count": 111,
   "metadata": {},
   "outputs": [
    {
     "name": "stdout",
     "output_type": "stream",
     "text": [
      "Class=37, n=35 (1.120%)\n",
      "Class=26, n=1518 (48.576%)\n",
      "Class=3, n=23 (0.736%)\n",
      "Class=39, n=20 (0.640%)\n",
      "Class=28, n=55 (1.760%)\n",
      "Class=6, n=24 (0.768%)\n",
      "Class=60, n=48 (1.536%)\n",
      "Class=35, n=30 (0.960%)\n",
      "Class=34, n=22 (0.704%)\n",
      "Class=30, n=35 (1.120%)\n",
      "Class=59, n=23 (0.736%)\n",
      "Class=15, n=25 (0.800%)\n",
      "Class=40, n=34 (1.088%)\n",
      "Class=50, n=37 (1.184%)\n",
      "Class=48, n=25 (0.800%)\n",
      "Class=8, n=97 (3.104%)\n",
      "Class=54, n=23 (0.736%)\n",
      "Class=16, n=22 (0.704%)\n",
      "Class=4, n=35 (1.120%)\n",
      "Class=58, n=20 (0.640%)\n",
      "Class=21, n=27 (0.864%)\n",
      "Class=18, n=47 (1.504%)\n",
      "Class=51, n=24 (0.768%)\n",
      "Class=25, n=24 (0.768%)\n",
      "Class=24, n=35 (1.120%)\n",
      "Class=17, n=27 (0.864%)\n",
      "Class=49, n=30 (0.960%)\n",
      "Class=47, n=26 (0.832%)\n",
      "Class=27, n=34 (1.088%)\n",
      "Class=36, n=28 (0.896%)\n",
      "Class=2, n=20 (0.640%)\n",
      "Class=38, n=20 (0.640%)\n",
      "Class=14, n=25 (0.800%)\n",
      "Class=10, n=20 (0.640%)\n",
      "Class=55, n=37 (1.184%)\n",
      "Class=57, n=20 (0.640%)\n",
      "Class=0, n=12 (0.384%)\n",
      "Class=1, n=21 (0.672%)\n",
      "Class=46, n=20 (0.640%)\n",
      "Class=43, n=35 (1.120%)\n",
      "Class=52, n=12 (0.384%)\n",
      "Class=53, n=13 (0.416%)\n",
      "Class=5, n=25 (0.800%)\n",
      "Class=56, n=36 (1.152%)\n",
      "Class=23, n=20 (0.640%)\n",
      "Class=44, n=21 (0.672%)\n",
      "Class=42, n=20 (0.640%)\n",
      "Class=19, n=20 (0.640%)\n",
      "Class=32, n=18 (0.576%)\n",
      "Class=45, n=22 (0.704%)\n",
      "Class=29, n=20 (0.640%)\n",
      "Class=31, n=20 (0.640%)\n",
      "Class=11, n=23 (0.736%)\n",
      "Class=7, n=26 (0.832%)\n",
      "Class=41, n=20 (0.640%)\n",
      "Class=12, n=12 (0.384%)\n",
      "Class=9, n=37 (1.184%)\n",
      "Class=20, n=26 (0.832%)\n",
      "Class=13, n=12 (0.384%)\n",
      "Class=22, n=19 (0.608%)\n",
      "Class=33, n=20 (0.640%)\n"
     ]
    },
    {
     "data": {
      "image/png": "[encoded data removed]",
      "text/plain": [
       "<Figure size 432x288 with 1 Axes>"
      ]
     },
     "metadata": {
      "needs_background": "light"
     },
     "output_type": "display_data"
    }
   ],
   "source": [
    "count_and_plot(y)"
   ]
  },
  {
   "cell_type": "markdown",
   "metadata": {},
   "source": [
    "n = 26 만 우뚝 쏟아 있는데 이것은 '운동 아님' 데이터이다.\n",
    "\n",
    "따라서 우리는 언더 샘플링을 해 숫자를 맞춰줄 것이다."
   ]
  },
  {
   "cell_type": "code",
   "execution_count": 114,
   "metadata": {
    "scrolled": true
   },
   "outputs": [
    {
     "name": "stdout",
     "output_type": "stream",
     "text": [
      "0.7.0\n"
     ]
    }
   ],
   "source": [
    "import imblearn\n",
    "print(imblearn.__version__)"
   ]
  },
  {
   "cell_type": "code",
   "execution_count": 143,
   "metadata": {},
   "outputs": [],
   "source": [
    "X_2 = X.numpy()"
   ]
  },
  {
   "cell_type": "code",
   "execution_count": 136,
   "metadata": {},
   "outputs": [
    {
     "data": {
      "text/plain": [
       "(3125, 600, 6)"
      ]
     },
     "execution_count": 136,
     "metadata": {},
     "output_type": "execute_result"
    }
   ],
   "source": [
    "X_2.shape"
   ]
  },
  {
   "cell_type": "code",
   "execution_count": 145,
   "metadata": {},
   "outputs": [],
   "source": [
    "X_1 = X_2.reshape((3125,-1))"
   ]
  },
  {
   "cell_type": "code",
   "execution_count": 146,
   "metadata": {},
   "outputs": [
    {
     "data": {
      "text/plain": [
       "(3125, 3600)"
      ]
     },
     "execution_count": 146,
     "metadata": {},
     "output_type": "execute_result"
    }
   ],
   "source": [
    "X_1.shape"
   ]
  },
  {
   "cell_type": "code",
   "execution_count": 147,
   "metadata": {},
   "outputs": [
    {
     "name": "stdout",
     "output_type": "stream",
     "text": [
      "Class=0, n=12 (1.639%)\n",
      "Class=1, n=12 (1.639%)\n",
      "Class=2, n=12 (1.639%)\n",
      "Class=3, n=12 (1.639%)\n",
      "Class=4, n=12 (1.639%)\n",
      "Class=5, n=12 (1.639%)\n",
      "Class=6, n=12 (1.639%)\n",
      "Class=7, n=12 (1.639%)\n",
      "Class=8, n=12 (1.639%)\n",
      "Class=9, n=12 (1.639%)\n",
      "Class=10, n=12 (1.639%)\n",
      "Class=11, n=12 (1.639%)\n",
      "Class=12, n=12 (1.639%)\n",
      "Class=13, n=12 (1.639%)\n",
      "Class=14, n=12 (1.639%)\n",
      "Class=15, n=12 (1.639%)\n",
      "Class=16, n=12 (1.639%)\n",
      "Class=17, n=12 (1.639%)\n",
      "Class=18, n=12 (1.639%)\n",
      "Class=19, n=12 (1.639%)\n",
      "Class=20, n=12 (1.639%)\n",
      "Class=21, n=12 (1.639%)\n",
      "Class=22, n=12 (1.639%)\n",
      "Class=23, n=12 (1.639%)\n",
      "Class=24, n=12 (1.639%)\n",
      "Class=25, n=12 (1.639%)\n",
      "Class=26, n=12 (1.639%)\n",
      "Class=27, n=12 (1.639%)\n",
      "Class=28, n=12 (1.639%)\n",
      "Class=29, n=12 (1.639%)\n",
      "Class=30, n=12 (1.639%)\n",
      "Class=31, n=12 (1.639%)\n",
      "Class=32, n=12 (1.639%)\n",
      "Class=33, n=12 (1.639%)\n",
      "Class=34, n=12 (1.639%)\n",
      "Class=35, n=12 (1.639%)\n",
      "Class=36, n=12 (1.639%)\n",
      "Class=37, n=12 (1.639%)\n",
      "Class=38, n=12 (1.639%)\n",
      "Class=39, n=12 (1.639%)\n",
      "Class=40, n=12 (1.639%)\n",
      "Class=41, n=12 (1.639%)\n",
      "Class=42, n=12 (1.639%)\n",
      "Class=43, n=12 (1.639%)\n",
      "Class=44, n=12 (1.639%)\n",
      "Class=45, n=12 (1.639%)\n",
      "Class=46, n=12 (1.639%)\n",
      "Class=47, n=12 (1.639%)\n",
      "Class=48, n=12 (1.639%)\n",
      "Class=49, n=12 (1.639%)\n",
      "Class=50, n=12 (1.639%)\n",
      "Class=51, n=12 (1.639%)\n",
      "Class=52, n=12 (1.639%)\n",
      "Class=53, n=12 (1.639%)\n",
      "Class=54, n=12 (1.639%)\n",
      "Class=55, n=12 (1.639%)\n",
      "Class=56, n=12 (1.639%)\n",
      "Class=57, n=12 (1.639%)\n",
      "Class=58, n=12 (1.639%)\n",
      "Class=59, n=12 (1.639%)\n",
      "Class=60, n=12 (1.639%)\n"
     ]
    },
    {
     "data": {
      "image/png": "[encoded data removed]",
      "text/plain": [
       "<Figure size 432x288 with 1 Axes>"
      ]
     },
     "metadata": {
      "needs_background": "light"
     },
     "output_type": "display_data"
    }
   ],
   "source": [
    "from imblearn.under_sampling import RandomUnderSampler\n",
    "\n",
    "X_resampled, y_resampled = RandomUnderSampler(random_state=0).fit_resample(X_1,y)\n",
    "count_and_plot(y_resampled)"
   ]
  },
  {
   "cell_type": "code",
   "execution_count": 152,
   "metadata": {},
   "outputs": [],
   "source": [
    "from sklearn.model_selection import train_test_split\n",
    "from tensorflow.keras.utils import to_categorical\n",
    "y1 = to_categorical(y)\n",
    "\n",
    "x_train, x_test, y_train, y_test = train_test_split(X_1, y1, test_size=0.2)"
   ]
  },
  {
   "cell_type": "code",
   "execution_count": 154,
   "metadata": {},
   "outputs": [],
   "source": [
    "from keras.models import Sequential\n",
    "from keras.layers import Dense, LSTM, Flatten\n",
    "\n",
    "#가벼운 모델 생성\n",
    "model = Sequential()\n",
    "model.add(Dense(32, input_dim =3600))\n",
    "model.add(Dense(128, activation='relu'))\n",
    "model.add(Flatten())\n",
    "model.add(Dense(61, activation='softmax'))\n",
    "\n",
    "model.compile(optimizer='rmsprop', loss='categorical_crossentropy', metrics=['accuracy'])"
   ]
  },
  {
   "cell_type": "code",
   "execution_count": 155,
   "metadata": {},
   "outputs": [
    {
     "name": "stdout",
     "output_type": "stream",
     "text": [
      "Model: \"sequential_21\"\n",
      "_________________________________________________________________\n",
      "Layer (type)                 Output Shape              Param #   \n",
      "=================================================================\n",
      "dense_60 (Dense)             (None, 32)                115232    \n",
      "_________________________________________________________________\n",
      "dense_61 (Dense)             (None, 128)               4224      \n",
      "_________________________________________________________________\n",
      "flatten_8 (Flatten)          (None, 128)               0         \n",
      "_________________________________________________________________\n",
      "dense_62 (Dense)             (None, 61)                7869      \n",
      "=================================================================\n",
      "Total params: 127,325\n",
      "Trainable params: 127,325\n",
      "Non-trainable params: 0\n",
      "_________________________________________________________________\n"
     ]
    }
   ],
   "source": [
    "model.summary()"
   ]
  },
  {
   "cell_type": "code",
   "execution_count": 156,
   "metadata": {},
   "outputs": [
    {
     "name": "stdout",
     "output_type": "stream",
     "text": [
      "Epoch 1/30\n",
      "16/16 [==============================] - 2s 29ms/step - loss: 40.5357 - accuracy: 0.1849 - val_loss: 27.3190 - val_accuracy: 0.2900\n",
      "Epoch 2/30\n",
      "16/16 [==============================] - 0s 13ms/step - loss: 12.6300 - accuracy: 0.4260 - val_loss: 24.5739 - val_accuracy: 0.3100\n",
      "Epoch 3/30\n",
      "16/16 [==============================] - 0s 11ms/step - loss: 7.5247 - accuracy: 0.4848 - val_loss: 22.7846 - val_accuracy: 0.3720\n",
      "Epoch 4/30\n",
      "16/16 [==============================] - 0s 10ms/step - loss: 5.2116 - accuracy: 0.5958 - val_loss: 23.6556 - val_accuracy: 0.3420\n",
      "Epoch 5/30\n",
      "16/16 [==============================] - 0s 11ms/step - loss: 4.3872 - accuracy: 0.6034 - val_loss: 24.6225 - val_accuracy: 0.3360\n",
      "Epoch 6/30\n",
      "16/16 [==============================] - 0s 10ms/step - loss: 3.6313 - accuracy: 0.6373 - val_loss: 24.0559 - val_accuracy: 0.3660\n",
      "Epoch 7/30\n",
      "16/16 [==============================] - 0s 10ms/step - loss: 2.6136 - accuracy: 0.6917 - val_loss: 25.3608 - val_accuracy: 0.3680\n",
      "Epoch 8/30\n",
      "16/16 [==============================] - 0s 11ms/step - loss: 2.3468 - accuracy: 0.7213 - val_loss: 27.0053 - val_accuracy: 0.3300\n",
      "Epoch 9/30\n",
      "16/16 [==============================] - 0s 10ms/step - loss: 2.1728 - accuracy: 0.7582 - val_loss: 27.4057 - val_accuracy: 0.3580\n",
      "Epoch 10/30\n",
      "16/16 [==============================] - 0s 10ms/step - loss: 1.3690 - accuracy: 0.7928 - val_loss: 29.4961 - val_accuracy: 0.3520\n",
      "Epoch 11/30\n",
      "16/16 [==============================] - 0s 10ms/step - loss: 1.8232 - accuracy: 0.7798 - val_loss: 30.0081 - val_accuracy: 0.3680\n",
      "Epoch 12/30\n",
      "16/16 [==============================] - 0s 10ms/step - loss: 1.4976 - accuracy: 0.8120 - val_loss: 29.8360 - val_accuracy: 0.3760\n",
      "Epoch 13/30\n",
      "16/16 [==============================] - 0s 10ms/step - loss: 0.9424 - accuracy: 0.8508 - val_loss: 30.7574 - val_accuracy: 0.3940\n",
      "Epoch 14/30\n",
      "16/16 [==============================] - 0s 11ms/step - loss: 1.2346 - accuracy: 0.8259 - val_loss: 31.9652 - val_accuracy: 0.4100\n",
      "Epoch 15/30\n",
      "16/16 [==============================] - 0s 9ms/step - loss: 0.9379 - accuracy: 0.8627 - val_loss: 33.2013 - val_accuracy: 0.4080\n",
      "Epoch 16/30\n",
      "16/16 [==============================] - 0s 10ms/step - loss: 0.8799 - accuracy: 0.8702 - val_loss: 32.2161 - val_accuracy: 0.4100\n",
      "Epoch 17/30\n",
      "16/16 [==============================] - 0s 10ms/step - loss: 0.7371 - accuracy: 0.8832 - val_loss: 33.7545 - val_accuracy: 0.4360\n",
      "Epoch 18/30\n",
      "16/16 [==============================] - 0s 11ms/step - loss: 0.7822 - accuracy: 0.8915 - val_loss: 35.8335 - val_accuracy: 0.3760\n",
      "Epoch 19/30\n",
      "16/16 [==============================] - 0s 11ms/step - loss: 0.6411 - accuracy: 0.8958 - val_loss: 36.3981 - val_accuracy: 0.3880\n",
      "Epoch 20/30\n",
      "16/16 [==============================] - 0s 10ms/step - loss: 0.7472 - accuracy: 0.8858 - val_loss: 36.2171 - val_accuracy: 0.3500\n",
      "Epoch 21/30\n",
      "16/16 [==============================] - 0s 10ms/step - loss: 0.8519 - accuracy: 0.8869 - val_loss: 38.0317 - val_accuracy: 0.3960\n",
      "Epoch 22/30\n",
      "16/16 [==============================] - 0s 10ms/step - loss: 0.5864 - accuracy: 0.9238 - val_loss: 37.8079 - val_accuracy: 0.4320\n",
      "Epoch 23/30\n",
      "16/16 [==============================] - 0s 11ms/step - loss: 0.3986 - accuracy: 0.9127 - val_loss: 38.9877 - val_accuracy: 0.4220\n",
      "Epoch 24/30\n",
      "16/16 [==============================] - 0s 10ms/step - loss: 0.6362 - accuracy: 0.9103 - val_loss: 40.2101 - val_accuracy: 0.4140\n",
      "Epoch 25/30\n",
      "16/16 [==============================] - 0s 11ms/step - loss: 0.5784 - accuracy: 0.9127 - val_loss: 39.7645 - val_accuracy: 0.4240\n",
      "Epoch 26/30\n",
      "16/16 [==============================] - 0s 10ms/step - loss: 0.4044 - accuracy: 0.9371 - val_loss: 40.7833 - val_accuracy: 0.4460\n",
      "Epoch 27/30\n",
      "16/16 [==============================] - 0s 10ms/step - loss: 0.5633 - accuracy: 0.9188 - val_loss: 41.3807 - val_accuracy: 0.4180\n",
      "Epoch 28/30\n",
      "16/16 [==============================] - 0s 10ms/step - loss: 0.5678 - accuracy: 0.9283 - val_loss: 42.5547 - val_accuracy: 0.4360\n",
      "Epoch 29/30\n",
      "16/16 [==============================] - 0s 10ms/step - loss: 0.3389 - accuracy: 0.9543 - val_loss: 44.2983 - val_accuracy: 0.4360\n",
      "Epoch 30/30\n",
      "16/16 [==============================] - 0s 10ms/step - loss: 0.2808 - accuracy: 0.9476 - val_loss: 46.1302 - val_accuracy: 0.4260\n"
     ]
    }
   ],
   "source": [
    "history = model.fit(x_train,y_train\n",
    "          , epochs=30, batch_size=128, validation_split=0.2)"
   ]
  },
  {
   "cell_type": "code",
   "execution_count": 157,
   "metadata": {},
   "outputs": [],
   "source": [
    "y_pred = model.predict(x_test)"
   ]
  },
  {
   "cell_type": "code",
   "execution_count": 158,
   "metadata": {},
   "outputs": [
    {
     "name": "stdout",
     "output_type": "stream",
     "text": [
      "테스트 세트의 정확도: 0.48\n"
     ]
    }
   ],
   "source": [
    "print(\"테스트 세트의 정확도: {:.2f}\".format(np.mean(y_pred == y_test_encoding)))"
   ]
  },
  {
   "cell_type": "code",
   "execution_count": 159,
   "metadata": {},
   "outputs": [
    {
     "data": {
      "text/plain": [
       "TensorShape([782, 600, 6])"
      ]
     },
     "execution_count": 159,
     "metadata": {},
     "output_type": "execute_result"
    }
   ],
   "source": [
    "test_X=tf.reshape(np.array(test.iloc[:,2:]),[-1, 600, 6])\n",
    "test_X.shape"
   ]
  },
  {
   "cell_type": "code",
   "execution_count": 161,
   "metadata": {},
   "outputs": [],
   "source": [
    "X_3 = test_X.numpy()"
   ]
  },
  {
   "cell_type": "code",
   "execution_count": 163,
   "metadata": {},
   "outputs": [
    {
     "data": {
      "text/plain": [
       "(782, 600, 6)"
      ]
     },
     "execution_count": 163,
     "metadata": {},
     "output_type": "execute_result"
    }
   ],
   "source": [
    "X_3.shape"
   ]
  },
  {
   "cell_type": "code",
   "execution_count": 164,
   "metadata": {},
   "outputs": [],
   "source": [
    "X_3 = X_3.reshape((782,-1))"
   ]
  },
  {
   "cell_type": "code",
   "execution_count": 165,
   "metadata": {},
   "outputs": [],
   "source": [
    "prediction = model.predict(X_3)"
   ]
  },
  {
   "cell_type": "code",
   "execution_count": 167,
   "metadata": {},
   "outputs": [],
   "source": [
    "submission.iloc[:,1:]=prediction"
   ]
  },
  {
   "cell_type": "code",
   "execution_count": 168,
   "metadata": {},
   "outputs": [],
   "source": [
    "submission.to_csv('ann_downsampling.csv', index=False)"
   ]
  },
  {
   "cell_type": "code",
   "execution_count": null,
   "metadata": {},
   "outputs": [],
   "source": []
  }
 ],
 "metadata": {
  "kernelspec": {
   "display_name": "Python 3",
   "language": "python",
   "name": "python3"
  },
  "language_info": {
   "codemirror_mode": {
    "name": "ipython",
    "version": 3
   },
   "file_extension": ".py",
   "mimetype": "text/x-python",
   "name": "python",
   "nbconvert_exporter": "python",
   "pygments_lexer": "ipython3",
   "version": "3.8.5"
  }
 },
 "nbformat": 4,
 "nbformat_minor": 4
}
